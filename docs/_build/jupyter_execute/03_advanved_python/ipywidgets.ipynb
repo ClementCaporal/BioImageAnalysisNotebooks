{
 "cells": [
  {
   "cell_type": "markdown",
   "id": "72b6ee91",
   "metadata": {
    "id": "72b6ee91"
   },
   "source": [
    "# Interactive image processing with ipywidgets and numpy_image_widget\n",
    "ipywidgets can be used in jupyter notebooks to interactively change parameters and view resuls of computation without adapting and rerunning code. The numpy image widget is a convenient addon allowing to use ipywidgets with image data as numpy arrays. Combining both allows to tune image processing workflow parameters right in your notebook.\n",
    "\n",
    "See also: \n",
    "* [Widget types](https://ipywidgets.readthedocs.io/en/latest/examples/Widget%20List.html)\n",
    "* [Widget events](https://ipywidgets.readthedocs.io/en/latest/examples/Widget%20Events.html)\n",
    "* [The Numpy Image Widget](https://github.com/Who8MyLunch/Numpy_Image_Widget)\n",
    "* [stackview](https://github.com/haesleinhuepf/stackview)"
   ]
  },
  {
   "cell_type": "markdown",
   "id": "cb5b3bfe",
   "metadata": {
    "id": "cb5b3bfe"
   },
   "source": [
    "Optionally execute this to install dependencies:"
   ]
  },
  {
   "cell_type": "code",
   "execution_count": 1,
   "id": "ClB6qhHGq0H2",
   "metadata": {
    "colab": {
     "base_uri": "https://localhost:8080/"
    },
    "id": "ClB6qhHGq0H2",
    "outputId": "4055344a-dd9f-4b55-8a03-89c236d67d84"
   },
   "outputs": [
    {
     "name": "stdout",
     "output_type": "stream",
     "text": [
      "Requirement already satisfied: pyclesperanto_prototype in /Users/haase/code/pyclesperanto_prototype (0.12.0)\r\n",
      "Requirement already satisfied: numpy!=1.19.4 in /Users/haase/opt/anaconda3/envs/bio_39/lib/python3.9/site-packages (from pyclesperanto_prototype) (1.21.5)\r\n",
      "Requirement already satisfied: pyopencl in /Users/haase/opt/anaconda3/envs/bio_39/lib/python3.9/site-packages (from pyclesperanto_prototype) (2021.2.6)\r\n",
      "Requirement already satisfied: toolz in /Users/haase/opt/anaconda3/envs/bio_39/lib/python3.9/site-packages (from pyclesperanto_prototype) (0.11.2)\r\n",
      "Requirement already satisfied: scikit-image>=0.18.0 in /Users/haase/opt/anaconda3/envs/bio_39/lib/python3.9/site-packages (from pyclesperanto_prototype) (0.18.3)\r\n",
      "Requirement already satisfied: matplotlib in /Users/haase/opt/anaconda3/envs/bio_39/lib/python3.9/site-packages (from pyclesperanto_prototype) (3.5.1)\r\n",
      "Requirement already satisfied: transforms3d in /Users/haase/opt/anaconda3/envs/bio_39/lib/python3.9/site-packages (from pyclesperanto_prototype) (0.3.1)\r\n"
     ]
    },
    {
     "name": "stdout",
     "output_type": "stream",
     "text": [
      "Requirement already satisfied: tifffile>=2019.7.26 in /Users/haase/opt/anaconda3/envs/bio_39/lib/python3.9/site-packages (from scikit-image>=0.18.0->pyclesperanto_prototype) (2021.11.2)\r\n",
      "Requirement already satisfied: scipy>=1.0.1 in /Users/haase/opt/anaconda3/envs/bio_39/lib/python3.9/site-packages (from scikit-image>=0.18.0->pyclesperanto_prototype) (1.7.3)\r\n",
      "Requirement already satisfied: PyWavelets>=1.1.1 in /Users/haase/opt/anaconda3/envs/bio_39/lib/python3.9/site-packages (from scikit-image>=0.18.0->pyclesperanto_prototype) (1.2.0)\r\n",
      "Requirement already satisfied: networkx>=2.0 in /Users/haase/opt/anaconda3/envs/bio_39/lib/python3.9/site-packages (from scikit-image>=0.18.0->pyclesperanto_prototype) (2.6.3)\r\n",
      "Requirement already satisfied: imageio>=2.3.0 in /Users/haase/opt/anaconda3/envs/bio_39/lib/python3.9/site-packages (from scikit-image>=0.18.0->pyclesperanto_prototype) (2.13.3)\r\n",
      "Requirement already satisfied: pillow!=7.1.0,!=7.1.1,>=4.3.0 in /Users/haase/opt/anaconda3/envs/bio_39/lib/python3.9/site-packages (from scikit-image>=0.18.0->pyclesperanto_prototype) (8.4.0)\r\n",
      "Requirement already satisfied: packaging>=20.0 in /Users/haase/opt/anaconda3/envs/bio_39/lib/python3.9/site-packages (from matplotlib->pyclesperanto_prototype) (21.3)\r\n",
      "Requirement already satisfied: cycler>=0.10 in /Users/haase/opt/anaconda3/envs/bio_39/lib/python3.9/site-packages (from matplotlib->pyclesperanto_prototype) (0.11.0)\r\n",
      "Requirement already satisfied: python-dateutil>=2.7 in /Users/haase/opt/anaconda3/envs/bio_39/lib/python3.9/site-packages (from matplotlib->pyclesperanto_prototype) (2.8.2)\r\n",
      "Requirement already satisfied: kiwisolver>=1.0.1 in /Users/haase/opt/anaconda3/envs/bio_39/lib/python3.9/site-packages (from matplotlib->pyclesperanto_prototype) (1.3.2)\r\n",
      "Requirement already satisfied: fonttools>=4.22.0 in /Users/haase/opt/anaconda3/envs/bio_39/lib/python3.9/site-packages (from matplotlib->pyclesperanto_prototype) (4.28.5)\r\n",
      "Requirement already satisfied: pyparsing>=2.2.1 in /Users/haase/opt/anaconda3/envs/bio_39/lib/python3.9/site-packages (from matplotlib->pyclesperanto_prototype) (3.0.6)\r\n",
      "Requirement already satisfied: pytools>=2021.2.7 in /Users/haase/opt/anaconda3/envs/bio_39/lib/python3.9/site-packages (from pyopencl->pyclesperanto_prototype) (2021.2.9)\r\n",
      "Requirement already satisfied: appdirs>=1.4.0 in /Users/haase/opt/anaconda3/envs/bio_39/lib/python3.9/site-packages (from pyopencl->pyclesperanto_prototype) (1.4.4)\r\n"
     ]
    },
    {
     "name": "stdout",
     "output_type": "stream",
     "text": [
      "Requirement already satisfied: six>=1.5 in /Users/haase/opt/anaconda3/envs/bio_39/lib/python3.9/site-packages (from python-dateutil>=2.7->matplotlib->pyclesperanto_prototype) (1.16.0)\r\n"
     ]
    }
   ],
   "source": [
    "!pip install pyclesperanto_prototype"
   ]
  },
  {
   "cell_type": "code",
   "execution_count": 2,
   "id": "bkVOJSM_rQUK",
   "metadata": {
    "colab": {
     "base_uri": "https://localhost:8080/"
    },
    "id": "bkVOJSM_rQUK",
    "outputId": "c8c7b623-70be-4188-aa6c-0600e0994200"
   },
   "outputs": [
    {
     "name": "stdout",
     "output_type": "stream",
     "text": [
      "Requirement already satisfied: ipywidgets in /Users/haase/opt/anaconda3/envs/bio_39/lib/python3.9/site-packages (7.6.5)\r\n",
      "Requirement already satisfied: numpy_image_widget in /Users/haase/opt/anaconda3/envs/bio_39/lib/python3.9/site-packages (2020.7.21)\r\n",
      "Requirement already satisfied: stackview in /Users/haase/opt/anaconda3/envs/bio_39/lib/python3.9/site-packages (0.1.5)\r\n",
      "Requirement already satisfied: jupyterlab-widgets>=1.0.0 in /Users/haase/opt/anaconda3/envs/bio_39/lib/python3.9/site-packages (from ipywidgets) (1.0.2)\r\n",
      "Requirement already satisfied: ipython-genutils~=0.2.0 in /Users/haase/opt/anaconda3/envs/bio_39/lib/python3.9/site-packages (from ipywidgets) (0.2.0)\r\n",
      "Requirement already satisfied: ipykernel>=4.5.1 in /Users/haase/opt/anaconda3/envs/bio_39/lib/python3.9/site-packages (from ipywidgets) (6.6.0)\r\n",
      "Requirement already satisfied: ipython>=4.0.0 in /Users/haase/opt/anaconda3/envs/bio_39/lib/python3.9/site-packages (from ipywidgets) (7.30.1)\r\n",
      "Requirement already satisfied: nbformat>=4.2.0 in /Users/haase/opt/anaconda3/envs/bio_39/lib/python3.9/site-packages (from ipywidgets) (5.1.3)\r\n",
      "Requirement already satisfied: widgetsnbextension~=3.5.0 in /Users/haase/opt/anaconda3/envs/bio_39/lib/python3.9/site-packages (from ipywidgets) (3.5.2)\r\n",
      "Requirement already satisfied: traitlets>=4.3.1 in /Users/haase/opt/anaconda3/envs/bio_39/lib/python3.9/site-packages (from ipywidgets) (5.1.1)\r\n",
      "Requirement already satisfied: image-attendant in /Users/haase/opt/anaconda3/envs/bio_39/lib/python3.9/site-packages (from numpy_image_widget) (2020.7.29)\r\n",
      "Requirement already satisfied: numpy in /Users/haase/opt/anaconda3/envs/bio_39/lib/python3.9/site-packages (from numpy_image_widget) (1.21.5)\r\n",
      "Requirement already satisfied: ipyevents in /Users/haase/opt/anaconda3/envs/bio_39/lib/python3.9/site-packages (from numpy_image_widget) (2.0.1)\r\n",
      "Requirement already satisfied: scikit-image in /Users/haase/opt/anaconda3/envs/bio_39/lib/python3.9/site-packages (from stackview) (0.18.3)\r\n"
     ]
    },
    {
     "name": "stdout",
     "output_type": "stream",
     "text": [
      "Requirement already satisfied: appnope in /Users/haase/opt/anaconda3/envs/bio_39/lib/python3.9/site-packages (from ipykernel>=4.5.1->ipywidgets) (0.1.2)\r\n",
      "Requirement already satisfied: jupyter-client<8.0 in /Users/haase/opt/anaconda3/envs/bio_39/lib/python3.9/site-packages (from ipykernel>=4.5.1->ipywidgets) (7.1.0)\r\n",
      "Requirement already satisfied: debugpy<2.0,>=1.0.0 in /Users/haase/opt/anaconda3/envs/bio_39/lib/python3.9/site-packages (from ipykernel>=4.5.1->ipywidgets) (1.5.1)\r\n",
      "Requirement already satisfied: matplotlib-inline<0.2.0,>=0.1.0 in /Users/haase/opt/anaconda3/envs/bio_39/lib/python3.9/site-packages (from ipykernel>=4.5.1->ipywidgets) (0.1.3)\r\n",
      "Requirement already satisfied: tornado<7.0,>=4.2 in /Users/haase/opt/anaconda3/envs/bio_39/lib/python3.9/site-packages (from ipykernel>=4.5.1->ipywidgets) (6.1)\r\n",
      "Requirement already satisfied: pickleshare in /Users/haase/opt/anaconda3/envs/bio_39/lib/python3.9/site-packages (from ipython>=4.0.0->ipywidgets) (0.7.5)\r\n",
      "Requirement already satisfied: prompt-toolkit!=3.0.0,!=3.0.1,<3.1.0,>=2.0.0 in /Users/haase/opt/anaconda3/envs/bio_39/lib/python3.9/site-packages (from ipython>=4.0.0->ipywidgets) (3.0.24)\r\n",
      "Requirement already satisfied: decorator in /Users/haase/opt/anaconda3/envs/bio_39/lib/python3.9/site-packages (from ipython>=4.0.0->ipywidgets) (5.1.0)\r\n",
      "Requirement already satisfied: setuptools>=18.5 in /Users/haase/.local/lib/python3.9/site-packages (from ipython>=4.0.0->ipywidgets) (59.7.0)\r\n",
      "Requirement already satisfied: pygments in /Users/haase/opt/anaconda3/envs/bio_39/lib/python3.9/site-packages (from ipython>=4.0.0->ipywidgets) (2.10.0)\r\n",
      "Requirement already satisfied: backcall in /Users/haase/opt/anaconda3/envs/bio_39/lib/python3.9/site-packages (from ipython>=4.0.0->ipywidgets) (0.2.0)\r\n",
      "Requirement already satisfied: jedi>=0.16 in /Users/haase/opt/anaconda3/envs/bio_39/lib/python3.9/site-packages (from ipython>=4.0.0->ipywidgets) (0.18.1)\r\n",
      "Requirement already satisfied: pexpect>4.3 in /Users/haase/opt/anaconda3/envs/bio_39/lib/python3.9/site-packages (from ipython>=4.0.0->ipywidgets) (4.8.0)\r\n",
      "Requirement already satisfied: jupyter-core in /Users/haase/opt/anaconda3/envs/bio_39/lib/python3.9/site-packages (from nbformat>=4.2.0->ipywidgets) (4.9.1)\r\n",
      "Requirement already satisfied: jsonschema!=2.5.0,>=2.4 in /Users/haase/opt/anaconda3/envs/bio_39/lib/python3.9/site-packages (from nbformat>=4.2.0->ipywidgets) (3.2.0)\r\n",
      "Requirement already satisfied: notebook>=4.4.1 in /Users/haase/opt/anaconda3/envs/bio_39/lib/python3.9/site-packages (from widgetsnbextension~=3.5.0->ipywidgets) (6.4.6)\r\n",
      "Requirement already satisfied: requests in /Users/haase/opt/anaconda3/envs/bio_39/lib/python3.9/site-packages (from image-attendant->numpy_image_widget) (2.26.0)\r\n",
      "Requirement already satisfied: Pillow in /Users/haase/opt/anaconda3/envs/bio_39/lib/python3.9/site-packages (from image-attendant->numpy_image_widget) (8.4.0)\r\n"
     ]
    },
    {
     "name": "stdout",
     "output_type": "stream",
     "text": [
      "Requirement already satisfied: networkx>=2.0 in /Users/haase/opt/anaconda3/envs/bio_39/lib/python3.9/site-packages (from scikit-image->stackview) (2.6.3)\r\n",
      "Requirement already satisfied: tifffile>=2019.7.26 in /Users/haase/opt/anaconda3/envs/bio_39/lib/python3.9/site-packages (from scikit-image->stackview) (2021.11.2)\r\n",
      "Requirement already satisfied: imageio>=2.3.0 in /Users/haase/opt/anaconda3/envs/bio_39/lib/python3.9/site-packages (from scikit-image->stackview) (2.13.3)\r\n",
      "Requirement already satisfied: matplotlib!=3.0.0,>=2.0.0 in /Users/haase/opt/anaconda3/envs/bio_39/lib/python3.9/site-packages (from scikit-image->stackview) (3.5.1)\r\n",
      "Requirement already satisfied: PyWavelets>=1.1.1 in /Users/haase/opt/anaconda3/envs/bio_39/lib/python3.9/site-packages (from scikit-image->stackview) (1.2.0)\r\n",
      "Requirement already satisfied: scipy>=1.0.1 in /Users/haase/opt/anaconda3/envs/bio_39/lib/python3.9/site-packages (from scikit-image->stackview) (1.7.3)\r\n",
      "Requirement already satisfied: parso<0.9.0,>=0.8.0 in /Users/haase/opt/anaconda3/envs/bio_39/lib/python3.9/site-packages (from jedi>=0.16->ipython>=4.0.0->ipywidgets) (0.8.3)\r\n",
      "Requirement already satisfied: pyrsistent>=0.14.0 in /Users/haase/opt/anaconda3/envs/bio_39/lib/python3.9/site-packages (from jsonschema!=2.5.0,>=2.4->nbformat>=4.2.0->ipywidgets) (0.18.0)\r\n",
      "Requirement already satisfied: six>=1.11.0 in /Users/haase/opt/anaconda3/envs/bio_39/lib/python3.9/site-packages (from jsonschema!=2.5.0,>=2.4->nbformat>=4.2.0->ipywidgets) (1.16.0)\r\n",
      "Requirement already satisfied: attrs>=17.4.0 in /Users/haase/opt/anaconda3/envs/bio_39/lib/python3.9/site-packages (from jsonschema!=2.5.0,>=2.4->nbformat>=4.2.0->ipywidgets) (21.2.0)\r\n",
      "Requirement already satisfied: python-dateutil>=2.1 in /Users/haase/opt/anaconda3/envs/bio_39/lib/python3.9/site-packages (from jupyter-client<8.0->ipykernel>=4.5.1->ipywidgets) (2.8.2)\r\n",
      "Requirement already satisfied: pyzmq>=13 in /Users/haase/opt/anaconda3/envs/bio_39/lib/python3.9/site-packages (from jupyter-client<8.0->ipykernel>=4.5.1->ipywidgets) (22.3.0)\r\n",
      "Requirement already satisfied: nest-asyncio>=1.5 in /Users/haase/opt/anaconda3/envs/bio_39/lib/python3.9/site-packages (from jupyter-client<8.0->ipykernel>=4.5.1->ipywidgets) (1.5.4)\r\n",
      "Requirement already satisfied: entrypoints in /Users/haase/opt/anaconda3/envs/bio_39/lib/python3.9/site-packages (from jupyter-client<8.0->ipykernel>=4.5.1->ipywidgets) (0.3)\r\n"
     ]
    },
    {
     "name": "stdout",
     "output_type": "stream",
     "text": [
      "Requirement already satisfied: kiwisolver>=1.0.1 in /Users/haase/opt/anaconda3/envs/bio_39/lib/python3.9/site-packages (from matplotlib!=3.0.0,>=2.0.0->scikit-image->stackview) (1.3.2)\r\n",
      "Requirement already satisfied: cycler>=0.10 in /Users/haase/opt/anaconda3/envs/bio_39/lib/python3.9/site-packages (from matplotlib!=3.0.0,>=2.0.0->scikit-image->stackview) (0.11.0)\r\n",
      "Requirement already satisfied: pyparsing>=2.2.1 in /Users/haase/opt/anaconda3/envs/bio_39/lib/python3.9/site-packages (from matplotlib!=3.0.0,>=2.0.0->scikit-image->stackview) (3.0.6)\r\n",
      "Requirement already satisfied: fonttools>=4.22.0 in /Users/haase/opt/anaconda3/envs/bio_39/lib/python3.9/site-packages (from matplotlib!=3.0.0,>=2.0.0->scikit-image->stackview) (4.28.5)\r\n",
      "Requirement already satisfied: packaging>=20.0 in /Users/haase/opt/anaconda3/envs/bio_39/lib/python3.9/site-packages (from matplotlib!=3.0.0,>=2.0.0->scikit-image->stackview) (21.3)\r\n",
      "Requirement already satisfied: nbconvert in /Users/haase/opt/anaconda3/envs/bio_39/lib/python3.9/site-packages (from notebook>=4.4.1->widgetsnbextension~=3.5.0->ipywidgets) (6.3.0)\r\n",
      "Requirement already satisfied: prometheus-client in /Users/haase/opt/anaconda3/envs/bio_39/lib/python3.9/site-packages (from notebook>=4.4.1->widgetsnbextension~=3.5.0->ipywidgets) (0.12.0)\r\n",
      "Requirement already satisfied: jinja2 in /Users/haase/opt/anaconda3/envs/bio_39/lib/python3.9/site-packages (from notebook>=4.4.1->widgetsnbextension~=3.5.0->ipywidgets) (3.0.3)\r\n",
      "Requirement already satisfied: argon2-cffi in /Users/haase/opt/anaconda3/envs/bio_39/lib/python3.9/site-packages (from notebook>=4.4.1->widgetsnbextension~=3.5.0->ipywidgets) (21.2.0)\r\n",
      "Requirement already satisfied: Send2Trash>=1.8.0 in /Users/haase/opt/anaconda3/envs/bio_39/lib/python3.9/site-packages (from notebook>=4.4.1->widgetsnbextension~=3.5.0->ipywidgets) (1.8.0)\r\n",
      "Requirement already satisfied: terminado>=0.8.3 in /Users/haase/opt/anaconda3/envs/bio_39/lib/python3.9/site-packages (from notebook>=4.4.1->widgetsnbextension~=3.5.0->ipywidgets) (0.12.1)\r\n",
      "Requirement already satisfied: ptyprocess>=0.5 in /Users/haase/opt/anaconda3/envs/bio_39/lib/python3.9/site-packages (from pexpect>4.3->ipython>=4.0.0->ipywidgets) (0.7.0)\r\n",
      "Requirement already satisfied: wcwidth in /Users/haase/opt/anaconda3/envs/bio_39/lib/python3.9/site-packages (from prompt-toolkit!=3.0.0,!=3.0.1,<3.1.0,>=2.0.0->ipython>=4.0.0->ipywidgets) (0.2.5)\r\n"
     ]
    },
    {
     "name": "stdout",
     "output_type": "stream",
     "text": [
      "Requirement already satisfied: certifi>=2017.4.17 in /Users/haase/opt/anaconda3/envs/bio_39/lib/python3.9/site-packages (from requests->image-attendant->numpy_image_widget) (2021.10.8)\r\n",
      "Requirement already satisfied: idna<4,>=2.5 in /Users/haase/opt/anaconda3/envs/bio_39/lib/python3.9/site-packages (from requests->image-attendant->numpy_image_widget) (3.1)\r\n",
      "Requirement already satisfied: charset-normalizer~=2.0.0 in /Users/haase/opt/anaconda3/envs/bio_39/lib/python3.9/site-packages (from requests->image-attendant->numpy_image_widget) (2.0.9)\r\n",
      "Requirement already satisfied: urllib3<1.27,>=1.21.1 in /Users/haase/opt/anaconda3/envs/bio_39/lib/python3.9/site-packages (from requests->image-attendant->numpy_image_widget) (1.26.7)\r\n"
     ]
    },
    {
     "name": "stdout",
     "output_type": "stream",
     "text": [
      "Requirement already satisfied: argon2-cffi-bindings in /Users/haase/opt/anaconda3/envs/bio_39/lib/python3.9/site-packages (from argon2-cffi->notebook>=4.4.1->widgetsnbextension~=3.5.0->ipywidgets) (21.2.0)\r\n"
     ]
    },
    {
     "name": "stdout",
     "output_type": "stream",
     "text": [
      "Requirement already satisfied: MarkupSafe>=2.0 in /Users/haase/opt/anaconda3/envs/bio_39/lib/python3.9/site-packages (from jinja2->notebook>=4.4.1->widgetsnbextension~=3.5.0->ipywidgets) (2.0.1)\r\n",
      "Requirement already satisfied: testpath in /Users/haase/opt/anaconda3/envs/bio_39/lib/python3.9/site-packages (from nbconvert->notebook>=4.4.1->widgetsnbextension~=3.5.0->ipywidgets) (0.5.0)\r\n",
      "Requirement already satisfied: bleach in /Users/haase/opt/anaconda3/envs/bio_39/lib/python3.9/site-packages (from nbconvert->notebook>=4.4.1->widgetsnbextension~=3.5.0->ipywidgets) (4.1.0)\r\n",
      "Requirement already satisfied: mistune<2,>=0.8.1 in /Users/haase/opt/anaconda3/envs/bio_39/lib/python3.9/site-packages (from nbconvert->notebook>=4.4.1->widgetsnbextension~=3.5.0->ipywidgets) (0.8.4)\r\n",
      "Requirement already satisfied: defusedxml in /Users/haase/opt/anaconda3/envs/bio_39/lib/python3.9/site-packages (from nbconvert->notebook>=4.4.1->widgetsnbextension~=3.5.0->ipywidgets) (0.7.1)\r\n",
      "Requirement already satisfied: nbclient<0.6.0,>=0.5.0 in /Users/haase/opt/anaconda3/envs/bio_39/lib/python3.9/site-packages (from nbconvert->notebook>=4.4.1->widgetsnbextension~=3.5.0->ipywidgets) (0.5.9)\r\n",
      "Requirement already satisfied: pandocfilters>=1.4.1 in /Users/haase/opt/anaconda3/envs/bio_39/lib/python3.9/site-packages (from nbconvert->notebook>=4.4.1->widgetsnbextension~=3.5.0->ipywidgets) (1.5.0)\r\n",
      "Requirement already satisfied: jupyterlab-pygments in /Users/haase/opt/anaconda3/envs/bio_39/lib/python3.9/site-packages (from nbconvert->notebook>=4.4.1->widgetsnbextension~=3.5.0->ipywidgets) (0.1.2)\r\n"
     ]
    },
    {
     "name": "stdout",
     "output_type": "stream",
     "text": [
      "Requirement already satisfied: cffi>=1.0.1 in /Users/haase/opt/anaconda3/envs/bio_39/lib/python3.9/site-packages (from argon2-cffi-bindings->argon2-cffi->notebook>=4.4.1->widgetsnbextension~=3.5.0->ipywidgets) (1.15.0)\r\n",
      "Requirement already satisfied: webencodings in /Users/haase/opt/anaconda3/envs/bio_39/lib/python3.9/site-packages (from bleach->nbconvert->notebook>=4.4.1->widgetsnbextension~=3.5.0->ipywidgets) (0.5.1)\r\n",
      "Requirement already satisfied: pycparser in /Users/haase/opt/anaconda3/envs/bio_39/lib/python3.9/site-packages (from cffi>=1.0.1->argon2-cffi-bindings->argon2-cffi->notebook>=4.4.1->widgetsnbextension~=3.5.0->ipywidgets) (2.21)\r\n"
     ]
    }
   ],
   "source": [
    "!pip install ipywidgets numpy_image_widget stackview"
   ]
  },
  {
   "cell_type": "code",
   "execution_count": 3,
   "id": "3e72770b",
   "metadata": {
    "colab": {
     "base_uri": "https://localhost:8080/"
    },
    "id": "3e72770b",
    "outputId": "ba35993e-bd71-4b53-aae7-25930300b257"
   },
   "outputs": [
    {
     "data": {
      "text/plain": [
       "<Apple M1 Max on Platform: Apple (2 refs)>"
      ]
     },
     "execution_count": 3,
     "metadata": {},
     "output_type": "execute_result"
    }
   ],
   "source": [
    "import ipywidgets as widgets\n",
    "import pyclesperanto_prototype as cle\n",
    "import PIL\n",
    "import numpy as np\n",
    "import numpy_image_widget as niw\n",
    "from skimage.io import imread, imshow\n",
    "import stackview\n",
    "\n",
    "cle.get_device()"
   ]
  },
  {
   "cell_type": "code",
   "execution_count": 4,
   "id": "3a8e2ec2",
   "metadata": {
    "id": "3a8e2ec2"
   },
   "outputs": [],
   "source": [
    "blobs = imread('https://github.com/clEsperanto/pyclesperanto_prototype/blob/master/data/blobs.tif?raw=true')"
   ]
  },
  {
   "cell_type": "markdown",
   "id": "4216d2a9",
   "metadata": {},
   "source": [
    "## stackview\n",
    "[stackview](https://github.com/haesleinhuepf/stackview) is a library for interactive visualization of image processing results in jupyert notebooks."
   ]
  },
  {
   "cell_type": "code",
   "execution_count": 5,
   "id": "de109dbc",
   "metadata": {},
   "outputs": [
    {
     "data": {
      "application/vnd.jupyter.widget-view+json": {
       "model_id": "b01ff303bd7d429e995c05c0ed9648b6",
       "version_major": 2,
       "version_minor": 0
      },
      "text/plain": [
       "interactive(children=(FloatSlider(value=0.0, continuous_update=False, description='sigma_x', max=20.0, min=-20…"
      ]
     },
     "metadata": {},
     "output_type": "display_data"
    },
    {
     "data": {
      "application/vnd.jupyter.widget-view+json": {
       "model_id": "56cd06d3be93445d9404aaae6de2b456",
       "version_major": 2,
       "version_minor": 0
      },
      "text/plain": [
       "VBox(children=(NumpyImage(value=b'\\xff\\xd8\\xff\\xe0\\x00\\x10JFIF\\x00\\x01\\x01\\x00\\x00\\x01\\x00\\x01\\x00\\x00\\xff\\xdb…"
      ]
     },
     "metadata": {},
     "output_type": "display_data"
    }
   ],
   "source": [
    "stackview.interact(cle.gaussian_blur, blobs)"
   ]
  },
  {
   "cell_type": "markdown",
   "id": "ae807300",
   "metadata": {
    "id": "ae807300"
   },
   "source": [
    "## A simple viewer updated later on\n",
    "We start with a simple NumpyImage viewer that can be updated further down in the notebook."
   ]
  },
  {
   "cell_type": "code",
   "execution_count": 6,
   "id": "52caa8dd",
   "metadata": {
    "colab": {
     "base_uri": "https://localhost:8080/",
     "height": 279,
     "referenced_widgets": [
      "a733b64da5e5473ab6a350898a479d9a",
      "fea8644820d04edcaeda7e3e393babd5"
     ]
    },
    "id": "52caa8dd",
    "outputId": "311f1c3f-35e7-475f-eec6-dac14f15e0b1"
   },
   "outputs": [
    {
     "data": {
      "application/vnd.jupyter.widget-view+json": {
       "model_id": "e9396f42fc5343969a1cd3f6e8a79b94",
       "version_major": 2,
       "version_minor": 0
      },
      "text/plain": [
       "NumpyImage(value=b'\\xff\\xd8\\xff\\xe0\\x00\\x10JFIF\\x00\\x01\\x01\\x00\\x00\\x01\\x00\\x01\\x00\\x00\\xff\\xdb\\x00C\\x00\\x05\\x…"
      ]
     },
     "metadata": {},
     "output_type": "display_data"
    }
   ],
   "source": [
    "blobs_view = niw.NumpyImage(blobs)\n",
    "blobs_view"
   ]
  },
  {
   "cell_type": "code",
   "execution_count": 7,
   "id": "b4df9798",
   "metadata": {
    "id": "b4df9798"
   },
   "outputs": [],
   "source": [
    "blobs_view.data = cle.gaussian_blur(blobs, sigma_x=15, sigma_y=15)"
   ]
  },
  {
   "cell_type": "markdown",
   "id": "9762f9be",
   "metadata": {
    "id": "9762f9be"
   },
   "source": [
    "## Interactive viewers\n",
    "We load a 3D image first and define a function for rotating it around the Y-axis."
   ]
  },
  {
   "cell_type": "code",
   "execution_count": 8,
   "id": "f7f52e62",
   "metadata": {
    "colab": {
     "base_uri": "https://localhost:8080/"
    },
    "id": "f7f52e62",
    "outputId": "d6357aa0-ac71-466f-9fe2-71bf2fa70517"
   },
   "outputs": [
    {
     "data": {
      "text/plain": [
       "(120, 160, 160)"
      ]
     },
     "execution_count": 8,
     "metadata": {},
     "output_type": "execute_result"
    }
   ],
   "source": [
    "head = imread('https://github.com/clEsperanto/pyclesperanto_prototype/blob/master/data/Haase_MRT_tfl3d1.tif?raw=true', plugin='tifffile')\n",
    "head.shape"
   ]
  },
  {
   "cell_type": "code",
   "execution_count": 9,
   "id": "yvN2Vuw-sb31",
   "metadata": {
    "colab": {
     "base_uri": "https://localhost:8080/"
    },
    "id": "yvN2Vuw-sb31",
    "outputId": "40b125d8-7f5f-4f46-c795-621367776349"
   },
   "outputs": [
    {
     "name": "stdout",
     "output_type": "stream",
     "text": [
      "(120, 160, 160)\n",
      "(240, 320, 320)\n"
     ]
    },
    {
     "data": {
      "text/plain": [
       "(240, 320, 320)"
      ]
     },
     "execution_count": 9,
     "metadata": {},
     "output_type": "execute_result"
    }
   ],
   "source": [
    "zoom_factor = 2\n",
    "\n",
    "head = np.asarray(cle.scale(head, cle.create(np.asarray(head.shape) * zoom_factor), factor_x=zoom_factor, factor_y=zoom_factor, factor_z=zoom_factor, linear_interpolation=True))\n",
    "head.shape"
   ]
  },
  {
   "cell_type": "code",
   "execution_count": 10,
   "id": "a113e725",
   "metadata": {
    "id": "a113e725"
   },
   "outputs": [],
   "source": [
    "def transform_image(image, angle, z=120):\n",
    "    rotated_stack = cle.rotate(image, angle_around_y_in_degrees=angle)\n",
    "    return rotated_stack[z]"
   ]
  },
  {
   "cell_type": "code",
   "execution_count": 11,
   "id": "c0678925",
   "metadata": {
    "colab": {
     "base_uri": "https://localhost:8080/",
     "height": 345,
     "referenced_widgets": [
      "0515bd324dda4bd8ba09516b1eb105ca",
      "cca85110e3b34db8b231d2e089dae729"
     ]
    },
    "id": "c0678925",
    "outputId": "0f95b12e-3e3f-418d-ea72-3b90dd382d9c"
   },
   "outputs": [
    {
     "data": {
      "application/vnd.jupyter.widget-view+json": {
       "model_id": "5babeb8753de4809a88f1551cce2fab6",
       "version_major": 2,
       "version_minor": 0
      },
      "text/plain": [
       "NumpyImage(value=b'\\xff\\xd8\\xff\\xe0\\x00\\x10JFIF\\x00\\x01\\x01\\x00\\x00\\x01\\x00\\x01\\x00\\x00\\xff\\xdb\\x00C\\x00\\x05\\x…"
      ]
     },
     "metadata": {},
     "output_type": "display_data"
    }
   ],
   "source": [
    "head_view = niw.NumpyImage(head[120])\n",
    "head_view"
   ]
  },
  {
   "cell_type": "code",
   "execution_count": 12,
   "id": "157b8a59",
   "metadata": {
    "colab": {
     "base_uri": "https://localhost:8080/",
     "height": 49,
     "referenced_widgets": [
      "19d1f2c25bc34b64a6f2c0ce91cfb3fb",
      "64b6def74d9f42cead220c28fe8b34ad",
      "ca0bc55e0bd64cc1b212a945ee9f0c7c"
     ]
    },
    "id": "157b8a59",
    "outputId": "28dfbde1-e4da-415a-839a-12c08f2fb3a9"
   },
   "outputs": [
    {
     "data": {
      "application/vnd.jupyter.widget-view+json": {
       "model_id": "ecfc132a177345a9a072766243be17d1",
       "version_major": 2,
       "version_minor": 0
      },
      "text/plain": [
       "IntSlider(value=0, max=180, min=-180)"
      ]
     },
     "metadata": {},
     "output_type": "display_data"
    }
   ],
   "source": [
    "# setup user interface for changing the angle\n",
    "angle_slider = widgets.IntSlider(value=0, min=-180, max=180)\n",
    "\n",
    "# event handler when the user changed something:\n",
    "def configuration_updated(event):\n",
    "    head_view.data = transform_image(head, angle_slider.value)\n",
    "\n",
    "# connect user interface with event\n",
    "angle_slider.observe(configuration_updated)\n",
    "angle_slider"
   ]
  },
  {
   "cell_type": "markdown",
   "id": "07fad95a",
   "metadata": {
    "id": "07fad95a"
   },
   "source": [
    "# Complex graphical user interface"
   ]
  },
  {
   "cell_type": "markdown",
   "id": "1c93518c",
   "metadata": {
    "id": "1c93518c"
   },
   "source": [
    "Loading example data (Courtesy [Célia Baroux, Ethel Mendocilla-Sato and Daphné Autran, University of Zurich, IRD Montpellier](https://datadryad.org/stash/dataset/doi:10.5061/dryad.02v6wwq2c) CC0)"
   ]
  },
  {
   "cell_type": "code",
   "execution_count": 13,
   "id": "66ea0db4",
   "metadata": {
    "colab": {
     "base_uri": "https://localhost:8080/",
     "height": 314
    },
    "id": "66ea0db4",
    "outputId": "ee65e92d-4f27-4cb0-ca97-e86dab065666"
   },
   "outputs": [
    {
     "data": {
      "text/plain": [
       "<matplotlib.image.AxesImage at 0x17a7930a0>"
      ]
     },
     "execution_count": 13,
     "metadata": {},
     "output_type": "execute_result"
    },
    {
     "data": {
      "image/png": "[encoded data removed]",
      "text/plain": [
       "<Figure size 432x288 with 1 Axes>"
      ]
     },
     "metadata": {
      "filenames": {
       "image/png": "/Users/haase/code/BioImageAnalysisNotebooks/docs/_build/jupyter_execute/03_advanved_python/ipywidgets_19_1.png"
      },
      "needs_background": "light"
     },
     "output_type": "display_data"
    }
   ],
   "source": [
    "image = imread('https://github.com/clEsperanto/pyclesperanto_prototype/blob/master/data/EM_C_6_c0.tif?raw=true', plugin='tifffile')\n",
    "\n",
    "depth, height, width = image.shape\n",
    "imshow(image[127])"
   ]
  },
  {
   "cell_type": "markdown",
   "id": "5fcf34f3",
   "metadata": {
    "id": "5fcf34f3"
   },
   "source": [
    "For a more complex graphical user interface (GUI) processing 3D data, we define a couple of sliders:"
   ]
  },
  {
   "cell_type": "code",
   "execution_count": 14,
   "id": "9bfbad2d",
   "metadata": {
    "id": "9bfbad2d"
   },
   "outputs": [],
   "source": [
    "z_slice_slider = widgets.IntSlider(\n",
    "    value=depth / 2,\n",
    "    min=0,\n",
    "    max=depth,\n",
    "    continuous_update=True,\n",
    "    orientation='vertical',\n",
    ")\n",
    "\n",
    "background_subtraction_radius_slider = widgets.FloatSlider(\n",
    "    value=4.5,\n",
    "    min=0,\n",
    "    max=20.0,\n",
    "    step=0.1,\n",
    "    description='Background subtraction:',\n",
    "    disabled=False,\n",
    "    continuous_update=False,\n",
    "    orientation='horizontal',\n",
    "    readout=True,\n",
    "    readout_format='.1f',\n",
    ")\n",
    "\n",
    "noise_removal_sigma_slider = widgets.FloatSlider(\n",
    "    value=2.2,\n",
    "    min=0,\n",
    "    max=20.0,\n",
    "    step=0.1,\n",
    "    description='Noise removal:',\n",
    "    disabled=False,\n",
    "    continuous_update=False,\n",
    "    orientation='horizontal',\n",
    "    readout=True,\n",
    "    readout_format='.1f',\n",
    ")\n",
    "\n",
    "edge_dilation_radius_slider = widgets.FloatSlider(\n",
    "    value=1.4,\n",
    "    min=0,\n",
    "    max=20,\n",
    "    step=0.1,\n",
    "    description='Edge dilation:',\n",
    "    disabled=False,\n",
    "    continuous_update=False,\n",
    "    orientation='horizontal',\n",
    "    readout=True,\n",
    "    readout_format='.1f',\n",
    ")\n",
    "\n",
    "threshold_slider = widgets.FloatSlider(\n",
    "    value=10,\n",
    "    min=0,\n",
    "    max=50.0,\n",
    "    step=0.1,\n",
    "    description='Threshold:',\n",
    "    disabled=False,\n",
    "    continuous_update=False,\n",
    "    orientation='horizontal',\n",
    "    readout=True,\n",
    "    readout_format='.1f',\n",
    ")\n",
    "\n",
    "output_selector = widgets.RadioButtons(\n",
    "    options=['background subtracted', 'denoised', 'edge eroded', 'binary', 'labels', 'result'],\n",
    "    value='result',\n",
    "    description='Show output:',\n",
    "    disabled=False\n",
    ")"
   ]
  },
  {
   "cell_type": "markdown",
   "id": "17af6138",
   "metadata": {
    "id": "17af6138"
   },
   "source": [
    "Furthermore, we define two viewers for showing input and output images:"
   ]
  },
  {
   "cell_type": "code",
   "execution_count": 15,
   "id": "e189cd60",
   "metadata": {
    "id": "e189cd60"
   },
   "outputs": [],
   "source": [
    "image_view = niw.NumpyImage(image[127])\n",
    "result_view = niw.NumpyImage(image[127])"
   ]
  },
  {
   "cell_type": "markdown",
   "id": "b0ad77c3",
   "metadata": {
    "id": "b0ad77c3"
   },
   "source": [
    "When executing longer workflows multiple times, it may make sense to allocate memory in advance. This spares re-allocation time in every execution."
   ]
  },
  {
   "cell_type": "code",
   "execution_count": 16,
   "id": "a8554608",
   "metadata": {
    "id": "a8554608"
   },
   "outputs": [],
   "source": [
    "# allocate memory\n",
    "image_gpu = cle.push(image)\n",
    "slice_gpu = cle.create([height, width])\n",
    "\n",
    "# have global variables for reusing memory\n",
    "background_subtracted_gpu = cle.create_like(image_gpu)\n",
    "denoised_gpu = cle.create_like(image_gpu)\n",
    "eroded_gpu = cle.create_like(image_gpu)\n",
    "binary_gpu = cle.create_like(image_gpu)\n",
    "labels_gpu = cle.create_labels_like(image_gpu)\n",
    "result_gpu = cle.create_like(image_gpu)"
   ]
  },
  {
   "cell_type": "markdown",
   "id": "9203afcd",
   "metadata": {
    "id": "9203afcd"
   },
   "source": [
    "We now attach events to the GUI. Those events will be executed when the user changes parameters."
   ]
  },
  {
   "cell_type": "code",
   "execution_count": 17,
   "id": "0fccbc1c",
   "metadata": {
    "id": "0fccbc1c"
   },
   "outputs": [],
   "source": [
    "def view_changed(event):\n",
    "    \n",
    "    cle.copy_slice(image_gpu, slice_gpu, slice_index=z_slice_slider.value)\n",
    "    image_view.data = slice_gpu\n",
    "    if output_selector.value == 'background subtracted':\n",
    "        cle.copy_slice(background_subtracted_gpu, slice_gpu, slice_index=z_slice_slider.value)\n",
    "    elif output_selector.value == 'denoised':\n",
    "        cle.copy_slice(denoised_gpu, slice_gpu, slice_index=z_slice_slider.value)\n",
    "    elif output_selector.value == 'edge eroded':\n",
    "        cle.copy_slice(eroded_gpu, slice_gpu, slice_index=z_slice_slider.value)\n",
    "    elif output_selector.value == 'binary':\n",
    "        cle.copy_slice(binary_gpu, slice_gpu, slice_index=z_slice_slider.value)\n",
    "    elif output_selector.value == 'labels':\n",
    "        cle.copy_slice(labels_gpu, slice_gpu, slice_index=z_slice_slider.value)\n",
    "    elif output_selector.value == 'result':\n",
    "        cle.copy_slice(result_gpu, slice_gpu, slice_index=z_slice_slider.value)\n",
    "\n",
    "    # in case min(result) == max(result), the viewer crashes\n",
    "    if cle.maximum_of_all_pixels(slice_gpu) == cle.minimum_of_all_pixels(slice_gpu):\n",
    "        cle.set_row(slice_gpu, 0, 1)\n",
    "        cle.set_column(slice_gpu, 0, 0)\n",
    "        \n",
    "    result_view.data = slice_gpu\n",
    "\n",
    "def parameters_changed(event):\n",
    "    process_image(threshold_slider.value, \n",
    "                  background_subtraction_radius_slider.value, \n",
    "                  noise_removal_sigma_slider.value,\n",
    "                  edge_dilation_radius_slider.value\n",
    "                 )    \n",
    "    view_changed(event)\n",
    "\n",
    "# connect GUI elements with event handlers\n",
    "threshold_slider.observe(parameters_changed)\n",
    "background_subtraction_radius_slider.observe(parameters_changed)\n",
    "edge_dilation_radius_slider.observe(parameters_changed)\n",
    "noise_removal_sigma_slider.observe(parameters_changed)\n",
    "\n",
    "z_slice_slider.observe(view_changed)\n",
    "output_selector.observe(view_changed)"
   ]
  },
  {
   "cell_type": "markdown",
   "id": "69d22bc5",
   "metadata": {
    "id": "69d22bc5"
   },
   "source": [
    "Finally, we define the image processing workflow in a function:"
   ]
  },
  {
   "cell_type": "code",
   "execution_count": 18,
   "id": "bb617393",
   "metadata": {
    "id": "bb617393"
   },
   "outputs": [],
   "source": [
    "def process_image(threshold, background_subtraction_radius, noise_removal_sigma, edge_dilation_radius):\n",
    "    # background removal\n",
    "    cle.top_hat_box(image_gpu, background_subtracted_gpu, radius_x=background_subtraction_radius, radius_y=background_subtraction_radius, radius_z=background_subtraction_radius)\n",
    "    \n",
    "    # denoising\n",
    "    cle.gaussian_blur(background_subtracted_gpu, denoised_gpu, sigma_x=noise_removal_sigma, sigma_y=noise_removal_sigma, sigma_z=noise_removal_sigma)\n",
    "    \n",
    "    # making membranes thicker in order to brige gaps\n",
    "    cle.maximum_box(denoised_gpu, eroded_gpu, radius_x=edge_dilation_radius, radius_y=edge_dilation_radius, radius_z=edge_dilation_radius)\n",
    "    \n",
    "    # threshold the image\n",
    "    cle.smaller_constant(eroded_gpu, binary_gpu, threshold)\n",
    "    \n",
    "    # label regions and fill black areas between regions\n",
    "    cle.voronoi_labeling(binary_gpu, labels_gpu)\n",
    "    \n",
    "    # output the borders between the labels\n",
    "    cle.detect_label_edges(labels_gpu, result_gpu)\n",
    "\n",
    "# call it once to initialize the view\n",
    "parameters_changed(None)"
   ]
  },
  {
   "cell_type": "markdown",
   "id": "cedf31e7",
   "metadata": {
    "id": "cedf31e7"
   },
   "source": [
    "We now use horizontal and vertical box arrangements to view the GUI elements."
   ]
  },
  {
   "cell_type": "code",
   "execution_count": 19,
   "id": "8f7c55e5",
   "metadata": {
    "colab": {
     "base_uri": "https://localhost:8080/",
     "height": 277,
     "referenced_widgets": [
      "0c53f07d742f4d31bacff91d38a033a2",
      "d31acf8e6d2649d9a163e9f095e460fe",
      "49225ff0a84a42cb90c743ea6b59b673",
      "121e20eb80374ddc886c035ef853d4d3",
      "78a6c83bc8f34cebb2ba791829144f73",
      "9fc404d208684df29534af5c541eb375",
      "274655296e4c4ed4a0e1d52c77ca29ce",
      "de9fda24d8a645d7a4e050db10a40772",
      "b382e33f3f784e04b7f2b1cac8061024",
      "8ab6f08fdd21410f8c65642bd262f55f",
      "f7048421787c41b19d003852d4e62658",
      "cf73e6377f224efd84b4dd7812d558b5",
      "d33000be93224fed99696b4fcf7b79aa",
      "4392a82b8f9a4ef0a78234176141741b",
      "0a4c7ebe998740b6858d607796b43e43",
      "523b64b5d120406d9aa5fe37c73958d1",
      "eff5a0626a6e4b6090d3113f61ea1eb9",
      "092f205de0294264897eef98d0534045",
      "997573a3064448eca9f442fdb0fe952d",
      "a99af7f81deb4b299d6b5b27557a8111",
      "10912ff0ec1c489c8e09012e083d706d",
      "04f7974a62af4defa3c696707f2ff879",
      "100f02572dbb4f6fa7b56d481579ed29",
      "fc42f3f2caff4a4e935aac4f8412750d",
      "a9776f22121c4512bd2e40f4332bd143",
      "b3de8dc2b979477ab3e56caa9dce13a0"
     ]
    },
    "id": "8f7c55e5",
    "outputId": "64708bdc-39a8-4c7d-b3d7-125e3824d4cf"
   },
   "outputs": [
    {
     "data": {
      "application/vnd.jupyter.widget-view+json": {
       "model_id": "10af7bf6170542c29561e78778e3ba3d",
       "version_major": 2,
       "version_minor": 0
      },
      "text/plain": [
       "HBox(children=(IntSlider(value=128, max=256, orientation='vertical'), NumpyImage(value=b'\\xff\\xd8\\xff\\xe0\\x00\\…"
      ]
     },
     "metadata": {},
     "output_type": "display_data"
    }
   ],
   "source": [
    "widgets.HBox([z_slice_slider, image_view, result_view,\n",
    "             widgets.VBox([\n",
    "                 background_subtraction_radius_slider,\n",
    "                 noise_removal_sigma_slider,\n",
    "                 edge_dilation_radius_slider,\n",
    "                 threshold_slider,\n",
    "                 output_selector\n",
    "             ])])"
   ]
  },
  {
   "cell_type": "markdown",
   "id": "a3cea6cf",
   "metadata": {
    "id": "a3cea6cf"
   },
   "source": [
    "Hint: After fine-tuning parameters, print them out!"
   ]
  },
  {
   "cell_type": "code",
   "execution_count": 20,
   "id": "b1c36137",
   "metadata": {
    "colab": {
     "base_uri": "https://localhost:8080/"
    },
    "id": "b1c36137",
    "outputId": "117b9214-a489-4140-c277-797b9f81c975"
   },
   "outputs": [
    {
     "data": {
      "text/plain": [
       "4.5"
      ]
     },
     "execution_count": 20,
     "metadata": {},
     "output_type": "execute_result"
    }
   ],
   "source": [
    "background_subtraction_radius_slider.value"
   ]
  },
  {
   "cell_type": "code",
   "execution_count": 21,
   "id": "6c858a5c",
   "metadata": {
    "colab": {
     "base_uri": "https://localhost:8080/"
    },
    "id": "6c858a5c",
    "outputId": "72a87ce6-feeb-4364-c4c4-745e25d8f21a"
   },
   "outputs": [
    {
     "data": {
      "text/plain": [
       "2.2"
      ]
     },
     "execution_count": 21,
     "metadata": {},
     "output_type": "execute_result"
    }
   ],
   "source": [
    "noise_removal_sigma_slider.value"
   ]
  },
  {
   "cell_type": "code",
   "execution_count": 22,
   "id": "a52bd862",
   "metadata": {
    "colab": {
     "base_uri": "https://localhost:8080/"
    },
    "id": "a52bd862",
    "outputId": "751fe130-8e68-492d-8bf9-ecdadf2e892f"
   },
   "outputs": [
    {
     "data": {
      "text/plain": [
       "1.4"
      ]
     },
     "execution_count": 22,
     "metadata": {},
     "output_type": "execute_result"
    }
   ],
   "source": [
    "edge_dilation_radius_slider.value"
   ]
  },
  {
   "cell_type": "code",
   "execution_count": 23,
   "id": "be2b74c4",
   "metadata": {
    "colab": {
     "base_uri": "https://localhost:8080/"
    },
    "id": "be2b74c4",
    "outputId": "a7ba2bfb-bcbb-429f-8c08-db574061e24b"
   },
   "outputs": [
    {
     "data": {
      "text/plain": [
       "10.0"
      ]
     },
     "execution_count": 23,
     "metadata": {},
     "output_type": "execute_result"
    }
   ],
   "source": [
    "threshold_slider.value"
   ]
  },
  {
   "cell_type": "code",
   "execution_count": 22,
   "id": "93dface8",
   "metadata": {
    "id": "93dface8"
   },
   "outputs": [],
   "source": []
  }
 ],
 "metadata": {
  "accelerator": "GPU",
  "colab": {
   "name": "ipywidgets.ipynb",
   "provenance": []
  },
  "kernelspec": {
   "display_name": "Python 3 (ipykernel)",
   "language": "python",
   "name": "python3"
  },
  "language_info": {
   "codemirror_mode": {
    "name": "ipython",
    "version": 3
   },
   "file_extension": ".py",
   "mimetype": "text/x-python",
   "name": "python",
   "nbconvert_exporter": "python",
   "pygments_lexer": "ipython3",
   "version": "3.9.9"
  },
  "widgets": {
   "application/vnd.jupyter.widget-state+json": {
    "state": {
     "0577178447e04e9086072809a75e9ce3": {
      "model_module": "@jupyter-widgets/controls",
      "model_module_version": "1.5.0",
      "model_name": "DescriptionStyleModel",
      "state": {
       "_model_module": "@jupyter-widgets/controls",
       "_model_module_version": "1.5.0",
       "_model_name": "DescriptionStyleModel",
       "_view_count": null,
       "_view_module": "@jupyter-widgets/base",
       "_view_module_version": "1.2.0",
       "_view_name": "StyleView",
       "description_width": ""
      }
     },
     "0be7cbab6d6648f1b9f6d8197f4eba5c": {
      "model_module": "@jupyter-widgets/controls",
      "model_module_version": "1.5.0",
      "model_name": "SliderStyleModel",
      "state": {
       "_model_module": "@jupyter-widgets/controls",
       "_model_module_version": "1.5.0",
       "_model_name": "SliderStyleModel",
       "_view_count": null,
       "_view_module": "@jupyter-widgets/base",
       "_view_module_version": "1.2.0",
       "_view_name": "StyleView",
       "description_width": "",
       "handle_color": null
      }
     },
     "0e8188c86ba24900b6627b7b9b5c4950": {
      "model_module": "@jupyter-widgets/base",
      "model_module_version": "1.2.0",
      "model_name": "LayoutModel",
      "state": {
       "_model_module": "@jupyter-widgets/base",
       "_model_module_version": "1.2.0",
       "_model_name": "LayoutModel",
       "_view_count": null,
       "_view_module": "@jupyter-widgets/base",
       "_view_module_version": "1.2.0",
       "_view_name": "LayoutView",
       "align_content": null,
       "align_items": null,
       "align_self": null,
       "border": null,
       "bottom": null,
       "display": null,
       "flex": null,
       "flex_flow": null,
       "grid_area": null,
       "grid_auto_columns": null,
       "grid_auto_flow": null,
       "grid_auto_rows": null,
       "grid_column": null,
       "grid_gap": null,
       "grid_row": null,
       "grid_template_areas": null,
       "grid_template_columns": null,
       "grid_template_rows": null,
       "height": null,
       "justify_content": null,
       "justify_items": null,
       "left": null,
       "margin": null,
       "max_height": null,
       "max_width": null,
       "min_height": null,
       "min_width": null,
       "object_fit": null,
       "object_position": null,
       "order": null,
       "overflow": null,
       "overflow_x": null,
       "overflow_y": null,
       "padding": null,
       "right": null,
       "top": null,
       "visibility": null,
       "width": null
      }
     },
     "0efc63f74043451ba883788b046a6724": {
      "model_module": "@jupyter-widgets/controls",
      "model_module_version": "1.5.0",
      "model_name": "FloatSliderModel",
      "state": {
       "_dom_classes": [],
       "_model_module": "@jupyter-widgets/controls",
       "_model_module_version": "1.5.0",
       "_model_name": "FloatSliderModel",
       "_view_count": null,
       "_view_module": "@jupyter-widgets/controls",
       "_view_module_version": "1.5.0",
       "_view_name": "FloatSliderView",
       "continuous_update": false,
       "description": "Noise removal:",
       "description_tooltip": null,
       "disabled": false,
       "layout": "IPY_MODEL_b4f5c063b13345a09c9362c7d898c9c8",
       "max": 20.0,
       "min": 0.0,
       "orientation": "horizontal",
       "readout": true,
       "readout_format": ".1f",
       "step": 0.1,
       "style": "IPY_MODEL_0be7cbab6d6648f1b9f6d8197f4eba5c",
       "value": 2.2
      }
     },
     "10af7bf6170542c29561e78778e3ba3d": {
      "model_module": "@jupyter-widgets/controls",
      "model_module_version": "1.5.0",
      "model_name": "HBoxModel",
      "state": {
       "_dom_classes": [],
       "_model_module": "@jupyter-widgets/controls",
       "_model_module_version": "1.5.0",
       "_model_name": "HBoxModel",
       "_view_count": null,
       "_view_module": "@jupyter-widgets/controls",
       "_view_module_version": "1.5.0",
       "_view_name": "HBoxView",
       "box_style": "",
       "children": [
        "IPY_MODEL_324d164230a246389f3d96c28b83f4da",
        "IPY_MODEL_57af7f49c81b4fa586e8713c7962bde4",
        "IPY_MODEL_7042787b3c6b41b498f4ae5be188a336",
        "IPY_MODEL_1183d985322b4a2eb796e0e182913bc9"
       ],
       "layout": "IPY_MODEL_6d1694cda50a455c90fd83f65c688f56"
      }
     },
     "1183d985322b4a2eb796e0e182913bc9": {
      "model_module": "@jupyter-widgets/controls",
      "model_module_version": "1.5.0",
      "model_name": "VBoxModel",
      "state": {
       "_dom_classes": [],
       "_model_module": "@jupyter-widgets/controls",
       "_model_module_version": "1.5.0",
       "_model_name": "VBoxModel",
       "_view_count": null,
       "_view_module": "@jupyter-widgets/controls",
       "_view_module_version": "1.5.0",
       "_view_name": "VBoxView",
       "box_style": "",
       "children": [
        "IPY_MODEL_68213bffc3f34140b8b264b9634a633f",
        "IPY_MODEL_0efc63f74043451ba883788b046a6724",
        "IPY_MODEL_b4440c36fa4743bca5ddc85eca4f3cd0",
        "IPY_MODEL_4fcc96077e264c9f9c7e96ed541ec2ea",
        "IPY_MODEL_eb53c3ed58b5423bacb07ae1fc56b498"
       ],
       "layout": "IPY_MODEL_a9ba5021ce0e4d47bc5c822e73b51e65"
      }
     },
     "126ad77a4d024466992339d1e6b5058e": {
      "model_module": "@jupyter-widgets/base",
      "model_module_version": "1.2.0",
      "model_name": "LayoutModel",
      "state": {
       "_model_module": "@jupyter-widgets/base",
       "_model_module_version": "1.2.0",
       "_model_name": "LayoutModel",
       "_view_count": null,
       "_view_module": "@jupyter-widgets/base",
       "_view_module_version": "1.2.0",
       "_view_name": "LayoutView",
       "align_content": null,
       "align_items": null,
       "align_self": null,
       "border": null,
       "bottom": null,
       "display": null,
       "flex": null,
       "flex_flow": null,
       "grid_area": null,
       "grid_auto_columns": null,
       "grid_auto_flow": null,
       "grid_auto_rows": null,
       "grid_column": null,
       "grid_gap": null,
       "grid_row": null,
       "grid_template_areas": null,
       "grid_template_columns": null,
       "grid_template_rows": null,
       "height": null,
       "justify_content": null,
       "justify_items": null,
       "left": null,
       "margin": null,
       "max_height": null,
       "max_width": null,
       "min_height": null,
       "min_width": null,
       "object_fit": null,
       "object_position": null,
       "order": null,
       "overflow": null,
       "overflow_x": null,
       "overflow_y": null,
       "padding": null,
       "right": null,
       "top": null,
       "visibility": null,
       "width": null
      }
     },
     "13f26315be3548ef927a11397be18acc": {
      "model_module": "@jupyter-widgets/base",
      "model_module_version": "1.2.0",
      "model_name": "LayoutModel",
      "state": {
       "_model_module": "@jupyter-widgets/base",
       "_model_module_version": "1.2.0",
       "_model_name": "LayoutModel",
       "_view_count": null,
       "_view_module": "@jupyter-widgets/base",
       "_view_module_version": "1.2.0",
       "_view_name": "LayoutView",
       "align_content": null,
       "align_items": null,
       "align_self": null,
       "border": null,
       "bottom": null,
       "display": null,
       "flex": null,
       "flex_flow": null,
       "grid_area": null,
       "grid_auto_columns": null,
       "grid_auto_flow": null,
       "grid_auto_rows": null,
       "grid_column": null,
       "grid_gap": null,
       "grid_row": null,
       "grid_template_areas": null,
       "grid_template_columns": null,
       "grid_template_rows": null,
       "height": null,
       "justify_content": null,
       "justify_items": null,
       "left": null,
       "margin": null,
       "max_height": null,
       "max_width": null,
       "min_height": null,
       "min_width": null,
       "object_fit": null,
       "object_position": null,
       "order": null,
       "overflow": null,
       "overflow_x": null,
       "overflow_y": null,
       "padding": null,
       "right": null,
       "top": null,
       "visibility": null,
       "width": null
      }
     },
     "17180731ab98424cbdc2d8aca803bc74": {
      "model_module": "@jupyter-widgets/base",
      "model_module_version": "1.2.0",
      "model_name": "LayoutModel",
      "state": {
       "_model_module": "@jupyter-widgets/base",
       "_model_module_version": "1.2.0",
       "_model_name": "LayoutModel",
       "_view_count": null,
       "_view_module": "@jupyter-widgets/base",
       "_view_module_version": "1.2.0",
       "_view_name": "LayoutView",
       "align_content": null,
       "align_items": null,
       "align_self": null,
       "border": null,
       "bottom": null,
       "display": null,
       "flex": null,
       "flex_flow": null,
       "grid_area": null,
       "grid_auto_columns": null,
       "grid_auto_flow": null,
       "grid_auto_rows": null,
       "grid_column": null,
       "grid_gap": null,
       "grid_row": null,
       "grid_template_areas": null,
       "grid_template_columns": null,
       "grid_template_rows": null,
       "height": null,
       "justify_content": null,
       "justify_items": null,
       "left": null,
       "margin": null,
       "max_height": null,
       "max_width": null,
       "min_height": null,
       "min_width": null,
       "object_fit": null,
       "object_position": null,
       "order": null,
       "overflow": null,
       "overflow_x": null,
       "overflow_y": null,
       "padding": null,
       "right": null,
       "top": null,
       "visibility": null,
       "width": null
      }
     },
     "1ce758883b5b49b99643883e82cfa6c1": {
      "model_module": "@jupyter-widgets/base",
      "model_module_version": "1.2.0",
      "model_name": "LayoutModel",
      "state": {
       "_model_module": "@jupyter-widgets/base",
       "_model_module_version": "1.2.0",
       "_model_name": "LayoutModel",
       "_view_count": null,
       "_view_module": "@jupyter-widgets/base",
       "_view_module_version": "1.2.0",
       "_view_name": "LayoutView",
       "align_content": null,
       "align_items": null,
       "align_self": null,
       "border": null,
       "bottom": null,
       "display": null,
       "flex": null,
       "flex_flow": null,
       "grid_area": null,
       "grid_auto_columns": null,
       "grid_auto_flow": null,
       "grid_auto_rows": null,
       "grid_column": null,
       "grid_gap": null,
       "grid_row": null,
       "grid_template_areas": null,
       "grid_template_columns": null,
       "grid_template_rows": null,
       "height": null,
       "justify_content": null,
       "justify_items": null,
       "left": null,
       "margin": null,
       "max_height": null,
       "max_width": null,
       "min_height": null,
       "min_width": null,
       "object_fit": null,
       "object_position": null,
       "order": null,
       "overflow": null,
       "overflow_x": null,
       "overflow_y": null,
       "padding": null,
       "right": null,
       "top": null,
       "visibility": null,
       "width": null
      }
     },
     "22b81cee0ff941b0a9db88e3ef334cf0": {
      "model_module": "@jupyter-widgets/base",
      "model_module_version": "1.2.0",
      "model_name": "LayoutModel",
      "state": {
       "_model_module": "@jupyter-widgets/base",
       "_model_module_version": "1.2.0",
       "_model_name": "LayoutModel",
       "_view_count": null,
       "_view_module": "@jupyter-widgets/base",
       "_view_module_version": "1.2.0",
       "_view_name": "LayoutView",
       "align_content": null,
       "align_items": null,
       "align_self": null,
       "border": null,
       "bottom": null,
       "display": null,
       "flex": null,
       "flex_flow": null,
       "grid_area": null,
       "grid_auto_columns": null,
       "grid_auto_flow": null,
       "grid_auto_rows": null,
       "grid_column": null,
       "grid_gap": null,
       "grid_row": null,
       "grid_template_areas": null,
       "grid_template_columns": null,
       "grid_template_rows": null,
       "height": null,
       "justify_content": null,
       "justify_items": null,
       "left": null,
       "margin": null,
       "max_height": null,
       "max_width": null,
       "min_height": null,
       "min_width": null,
       "object_fit": null,
       "object_position": null,
       "order": null,
       "overflow": null,
       "overflow_x": null,
       "overflow_y": null,
       "padding": null,
       "right": null,
       "top": null,
       "visibility": null,
       "width": null
      }
     },
     "2613ab6ca37e4c209353c394127792c1": {
      "model_module": "@jupyter-widgets/controls",
      "model_module_version": "1.5.0",
      "model_name": "SliderStyleModel",
      "state": {
       "_model_module": "@jupyter-widgets/controls",
       "_model_module_version": "1.5.0",
       "_model_name": "SliderStyleModel",
       "_view_count": null,
       "_view_module": "@jupyter-widgets/base",
       "_view_module_version": "1.2.0",
       "_view_name": "StyleView",
       "description_width": "",
       "handle_color": null
      }
     },
     "2cfa44bbb66044c0add7f8b4e31ea52c": {
      "model_module": "@jupyter-widgets/controls",
      "model_module_version": "1.5.0",
      "model_name": "SliderStyleModel",
      "state": {
       "_model_module": "@jupyter-widgets/controls",
       "_model_module_version": "1.5.0",
       "_model_name": "SliderStyleModel",
       "_view_count": null,
       "_view_module": "@jupyter-widgets/base",
       "_view_module_version": "1.2.0",
       "_view_name": "StyleView",
       "description_width": "",
       "handle_color": null
      }
     },
     "2fb8ec0488754a9681917ed240455f46": {
      "model_module": "@jupyter-widgets/controls",
      "model_module_version": "1.5.0",
      "model_name": "SliderStyleModel",
      "state": {
       "_model_module": "@jupyter-widgets/controls",
       "_model_module_version": "1.5.0",
       "_model_name": "SliderStyleModel",
       "_view_count": null,
       "_view_module": "@jupyter-widgets/base",
       "_view_module_version": "1.2.0",
       "_view_name": "StyleView",
       "description_width": "",
       "handle_color": null
      }
     },
     "324d164230a246389f3d96c28b83f4da": {
      "model_module": "@jupyter-widgets/controls",
      "model_module_version": "1.5.0",
      "model_name": "IntSliderModel",
      "state": {
       "_dom_classes": [],
       "_model_module": "@jupyter-widgets/controls",
       "_model_module_version": "1.5.0",
       "_model_name": "IntSliderModel",
       "_view_count": null,
       "_view_module": "@jupyter-widgets/controls",
       "_view_module_version": "1.5.0",
       "_view_name": "IntSliderView",
       "continuous_update": true,
       "description": "",
       "description_tooltip": null,
       "disabled": false,
       "layout": "IPY_MODEL_9456fdf3c49b46a189cacd2b652d9b6f",
       "max": 256,
       "min": 0,
       "orientation": "vertical",
       "readout": true,
       "readout_format": "d",
       "step": 1,
       "style": "IPY_MODEL_abfe88ac01a5407fb129dd6ddb01d94a",
       "value": 128
      }
     },
     "4347cf157b1f427396b285684c2803dd": {
      "model_module": "@jupyter-widgets/base",
      "model_module_version": "1.2.0",
      "model_name": "LayoutModel",
      "state": {
       "_model_module": "@jupyter-widgets/base",
       "_model_module_version": "1.2.0",
       "_model_name": "LayoutModel",
       "_view_count": null,
       "_view_module": "@jupyter-widgets/base",
       "_view_module_version": "1.2.0",
       "_view_name": "LayoutView",
       "align_content": null,
       "align_items": null,
       "align_self": null,
       "border": null,
       "bottom": null,
       "display": null,
       "flex": null,
       "flex_flow": null,
       "grid_area": null,
       "grid_auto_columns": null,
       "grid_auto_flow": null,
       "grid_auto_rows": null,
       "grid_column": null,
       "grid_gap": null,
       "grid_row": null,
       "grid_template_areas": null,
       "grid_template_columns": null,
       "grid_template_rows": null,
       "height": null,
       "justify_content": null,
       "justify_items": null,
       "left": null,
       "margin": null,
       "max_height": null,
       "max_width": null,
       "min_height": null,
       "min_width": null,
       "object_fit": null,
       "object_position": null,
       "order": null,
       "overflow": null,
       "overflow_x": null,
       "overflow_y": null,
       "padding": null,
       "right": null,
       "top": null,
       "visibility": null,
       "width": null
      }
     },
     "4fcc96077e264c9f9c7e96ed541ec2ea": {
      "model_module": "@jupyter-widgets/controls",
      "model_module_version": "1.5.0",
      "model_name": "FloatSliderModel",
      "state": {
       "_dom_classes": [],
       "_model_module": "@jupyter-widgets/controls",
       "_model_module_version": "1.5.0",
       "_model_name": "FloatSliderModel",
       "_view_count": null,
       "_view_module": "@jupyter-widgets/controls",
       "_view_module_version": "1.5.0",
       "_view_name": "FloatSliderView",
       "continuous_update": false,
       "description": "Threshold:",
       "description_tooltip": null,
       "disabled": false,
       "layout": "IPY_MODEL_6f403a001f834611b23aaa3555e31bd0",
       "max": 50.0,
       "min": 0.0,
       "orientation": "horizontal",
       "readout": true,
       "readout_format": ".1f",
       "step": 0.1,
       "style": "IPY_MODEL_2cfa44bbb66044c0add7f8b4e31ea52c",
       "value": 10.0
      }
     },
     "52afc4e85a4a4839843b84f3275d92b8": {
      "buffers": [
       {
        "data": "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",
        "encoding": "base64",
        "path": [
         "value"
        ]
       }
      ],
      "model_module": "@jupyter-widgets/controls",
      "model_module_version": "1.5.0",
      "model_name": "ImageModel",
      "state": {
       "_dom_classes": [],
       "_model_module": "@jupyter-widgets/controls",
       "_model_module_version": "1.5.0",
       "_model_name": "ImageModel",
       "_view_count": null,
       "_view_module": "@jupyter-widgets/controls",
       "_view_module_version": "1.5.0",
       "_view_name": "ImageView",
       "format": "jpeg",
       "height": "240pt",
       "layout": "IPY_MODEL_0e8188c86ba24900b6627b7b9b5c4950",
       "width": "241pt"
      }
     },
     "56cd06d3be93445d9404aaae6de2b456": {
      "model_module": "@jupyter-widgets/controls",
      "model_module_version": "1.5.0",
      "model_name": "VBoxModel",
      "state": {
       "_dom_classes": [],
       "_model_module": "@jupyter-widgets/controls",
       "_model_module_version": "1.5.0",
       "_model_name": "VBoxModel",
       "_view_count": null,
       "_view_module": "@jupyter-widgets/controls",
       "_view_module_version": "1.5.0",
       "_view_name": "VBoxView",
       "box_style": "",
       "children": [
        "IPY_MODEL_52afc4e85a4a4839843b84f3275d92b8",
        "IPY_MODEL_fe7113c1a0194fb49c3f0f39177e63aa"
       ],
       "layout": "IPY_MODEL_126ad77a4d024466992339d1e6b5058e"
      }
     },
     "57af7f49c81b4fa586e8713c7962bde4": {
      "buffers": [
       {
        "data": "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",
        "encoding": "base64",
        "path": [
         "value"
        ]
       }
      ],
      "model_module": "@jupyter-widgets/controls",
      "model_module_version": "1.5.0",
      "model_name": "ImageModel",
      "state": {
       "_dom_classes": [],
       "_model_module": "@jupyter-widgets/controls",
       "_model_module_version": "1.5.0",
       "_model_name": "ImageModel",
       "_view_count": null,
       "_view_module": "@jupyter-widgets/controls",
       "_view_module_version": "1.5.0",
       "_view_name": "ImageView",
       "format": "jpeg",
       "height": "",
       "layout": "IPY_MODEL_b6c9bf7cc60140318312801de2ab5ba9",
       "width": ""
      }
     },
     "5a18da0488064533ad176e9ebfd489ed": {
      "model_module": "@jupyter-widgets/base",
      "model_module_version": "1.2.0",
      "model_name": "LayoutModel",
      "state": {
       "_model_module": "@jupyter-widgets/base",
       "_model_module_version": "1.2.0",
       "_model_name": "LayoutModel",
       "_view_count": null,
       "_view_module": "@jupyter-widgets/base",
       "_view_module_version": "1.2.0",
       "_view_name": "LayoutView",
       "align_content": null,
       "align_items": null,
       "align_self": null,
       "border": null,
       "bottom": null,
       "display": null,
       "flex": null,
       "flex_flow": null,
       "grid_area": null,
       "grid_auto_columns": null,
       "grid_auto_flow": null,
       "grid_auto_rows": null,
       "grid_column": null,
       "grid_gap": null,
       "grid_row": null,
       "grid_template_areas": null,
       "grid_template_columns": null,
       "grid_template_rows": null,
       "height": null,
       "justify_content": null,
       "justify_items": null,
       "left": null,
       "margin": null,
       "max_height": null,
       "max_width": null,
       "min_height": null,
       "min_width": null,
       "object_fit": null,
       "object_position": null,
       "order": null,
       "overflow": null,
       "overflow_x": null,
       "overflow_y": null,
       "padding": null,
       "right": null,
       "top": null,
       "visibility": null,
       "width": null
      }
     },
     "5babeb8753de4809a88f1551cce2fab6": {
      "buffers": [
       {
        "data": "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",
        "encoding": "base64",
        "path": [
         "value"
        ]
       }
      ],
      "model_module": "@jupyter-widgets/controls",
      "model_module_version": "1.5.0",
      "model_name": "ImageModel",
      "state": {
       "_dom_classes": [],
       "_model_module": "@jupyter-widgets/controls",
       "_model_module_version": "1.5.0",
       "_model_name": "ImageModel",
       "_view_count": null,
       "_view_module": "@jupyter-widgets/controls",
       "_view_module_version": "1.5.0",
       "_view_name": "ImageView",
       "format": "jpeg",
       "height": "",
       "layout": "IPY_MODEL_72d25d006d014f41b52216367b3fb270",
       "width": ""
      }
     },
     "5ede8f29160f429f96df38bc359bd083": {
      "model_module": "@jupyter-widgets/controls",
      "model_module_version": "1.5.0",
      "model_name": "SliderStyleModel",
      "state": {
       "_model_module": "@jupyter-widgets/controls",
       "_model_module_version": "1.5.0",
       "_model_name": "SliderStyleModel",
       "_view_count": null,
       "_view_module": "@jupyter-widgets/base",
       "_view_module_version": "1.2.0",
       "_view_name": "StyleView",
       "description_width": "",
       "handle_color": null
      }
     },
     "65c67740564e4cc19207e3dfc82d859f": {
      "model_module": "@jupyter-widgets/base",
      "model_module_version": "1.2.0",
      "model_name": "LayoutModel",
      "state": {
       "_model_module": "@jupyter-widgets/base",
       "_model_module_version": "1.2.0",
       "_model_name": "LayoutModel",
       "_view_count": null,
       "_view_module": "@jupyter-widgets/base",
       "_view_module_version": "1.2.0",
       "_view_name": "LayoutView",
       "align_content": null,
       "align_items": null,
       "align_self": null,
       "border": null,
       "bottom": null,
       "display": null,
       "flex": null,
       "flex_flow": null,
       "grid_area": null,
       "grid_auto_columns": null,
       "grid_auto_flow": null,
       "grid_auto_rows": null,
       "grid_column": null,
       "grid_gap": null,
       "grid_row": null,
       "grid_template_areas": null,
       "grid_template_columns": null,
       "grid_template_rows": null,
       "height": null,
       "justify_content": null,
       "justify_items": null,
       "left": null,
       "margin": null,
       "max_height": null,
       "max_width": null,
       "min_height": null,
       "min_width": null,
       "object_fit": null,
       "object_position": null,
       "order": null,
       "overflow": null,
       "overflow_x": null,
       "overflow_y": null,
       "padding": null,
       "right": null,
       "top": null,
       "visibility": null,
       "width": null
      }
     },
     "68213bffc3f34140b8b264b9634a633f": {
      "model_module": "@jupyter-widgets/controls",
      "model_module_version": "1.5.0",
      "model_name": "FloatSliderModel",
      "state": {
       "_dom_classes": [],
       "_model_module": "@jupyter-widgets/controls",
       "_model_module_version": "1.5.0",
       "_model_name": "FloatSliderModel",
       "_view_count": null,
       "_view_module": "@jupyter-widgets/controls",
       "_view_module_version": "1.5.0",
       "_view_name": "FloatSliderView",
       "continuous_update": false,
       "description": "Background subtraction:",
       "description_tooltip": null,
       "disabled": false,
       "layout": "IPY_MODEL_17180731ab98424cbdc2d8aca803bc74",
       "max": 20.0,
       "min": 0.0,
       "orientation": "horizontal",
       "readout": true,
       "readout_format": ".1f",
       "step": 0.1,
       "style": "IPY_MODEL_2613ab6ca37e4c209353c394127792c1",
       "value": 4.5
      }
     },
     "6b06de69eded4f9480ae2a90b98d464f": {
      "model_module": "@jupyter-widgets/controls",
      "model_module_version": "1.5.0",
      "model_name": "FloatSliderModel",
      "state": {
       "_dom_classes": [],
       "_model_module": "@jupyter-widgets/controls",
       "_model_module_version": "1.5.0",
       "_model_name": "FloatSliderModel",
       "_view_count": null,
       "_view_module": "@jupyter-widgets/controls",
       "_view_module_version": "1.5.0",
       "_view_name": "FloatSliderView",
       "continuous_update": false,
       "description": "sigma_y",
       "description_tooltip": null,
       "disabled": false,
       "layout": "IPY_MODEL_65c67740564e4cc19207e3dfc82d859f",
       "max": 20.0,
       "min": -20.0,
       "orientation": "horizontal",
       "readout": true,
       "readout_format": ".2f",
       "step": 1.0,
       "style": "IPY_MODEL_aabd7c5d02f44a688a1affb314f19c90",
       "value": 0.0
      }
     },
     "6d1694cda50a455c90fd83f65c688f56": {
      "model_module": "@jupyter-widgets/base",
      "model_module_version": "1.2.0",
      "model_name": "LayoutModel",
      "state": {
       "_model_module": "@jupyter-widgets/base",
       "_model_module_version": "1.2.0",
       "_model_name": "LayoutModel",
       "_view_count": null,
       "_view_module": "@jupyter-widgets/base",
       "_view_module_version": "1.2.0",
       "_view_name": "LayoutView",
       "align_content": null,
       "align_items": null,
       "align_self": null,
       "border": null,
       "bottom": null,
       "display": null,
       "flex": null,
       "flex_flow": null,
       "grid_area": null,
       "grid_auto_columns": null,
       "grid_auto_flow": null,
       "grid_auto_rows": null,
       "grid_column": null,
       "grid_gap": null,
       "grid_row": null,
       "grid_template_areas": null,
       "grid_template_columns": null,
       "grid_template_rows": null,
       "height": null,
       "justify_content": null,
       "justify_items": null,
       "left": null,
       "margin": null,
       "max_height": null,
       "max_width": null,
       "min_height": null,
       "min_width": null,
       "object_fit": null,
       "object_position": null,
       "order": null,
       "overflow": null,
       "overflow_x": null,
       "overflow_y": null,
       "padding": null,
       "right": null,
       "top": null,
       "visibility": null,
       "width": null
      }
     },
     "6f403a001f834611b23aaa3555e31bd0": {
      "model_module": "@jupyter-widgets/base",
      "model_module_version": "1.2.0",
      "model_name": "LayoutModel",
      "state": {
       "_model_module": "@jupyter-widgets/base",
       "_model_module_version": "1.2.0",
       "_model_name": "LayoutModel",
       "_view_count": null,
       "_view_module": "@jupyter-widgets/base",
       "_view_module_version": "1.2.0",
       "_view_name": "LayoutView",
       "align_content": null,
       "align_items": null,
       "align_self": null,
       "border": null,
       "bottom": null,
       "display": null,
       "flex": null,
       "flex_flow": null,
       "grid_area": null,
       "grid_auto_columns": null,
       "grid_auto_flow": null,
       "grid_auto_rows": null,
       "grid_column": null,
       "grid_gap": null,
       "grid_row": null,
       "grid_template_areas": null,
       "grid_template_columns": null,
       "grid_template_rows": null,
       "height": null,
       "justify_content": null,
       "justify_items": null,
       "left": null,
       "margin": null,
       "max_height": null,
       "max_width": null,
       "min_height": null,
       "min_width": null,
       "object_fit": null,
       "object_position": null,
       "order": null,
       "overflow": null,
       "overflow_x": null,
       "overflow_y": null,
       "padding": null,
       "right": null,
       "top": null,
       "visibility": null,
       "width": null
      }
     },
     "7042787b3c6b41b498f4ae5be188a336": {
      "buffers": [
       {
        "data": "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",
        "encoding": "base64",
        "path": [
         "value"
        ]
       }
      ],
      "model_module": "@jupyter-widgets/controls",
      "model_module_version": "1.5.0",
      "model_name": "ImageModel",
      "state": {
       "_dom_classes": [],
       "_model_module": "@jupyter-widgets/controls",
       "_model_module_version": "1.5.0",
       "_model_name": "ImageModel",
       "_view_count": null,
       "_view_module": "@jupyter-widgets/controls",
       "_view_module_version": "1.5.0",
       "_view_name": "ImageView",
       "format": "jpeg",
       "height": "",
       "layout": "IPY_MODEL_4347cf157b1f427396b285684c2803dd",
       "width": ""
      }
     },
     "72d25d006d014f41b52216367b3fb270": {
      "model_module": "@jupyter-widgets/base",
      "model_module_version": "1.2.0",
      "model_name": "LayoutModel",
      "state": {
       "_model_module": "@jupyter-widgets/base",
       "_model_module_version": "1.2.0",
       "_model_name": "LayoutModel",
       "_view_count": null,
       "_view_module": "@jupyter-widgets/base",
       "_view_module_version": "1.2.0",
       "_view_name": "LayoutView",
       "align_content": null,
       "align_items": null,
       "align_self": null,
       "border": null,
       "bottom": null,
       "display": null,
       "flex": null,
       "flex_flow": null,
       "grid_area": null,
       "grid_auto_columns": null,
       "grid_auto_flow": null,
       "grid_auto_rows": null,
       "grid_column": null,
       "grid_gap": null,
       "grid_row": null,
       "grid_template_areas": null,
       "grid_template_columns": null,
       "grid_template_rows": null,
       "height": null,
       "justify_content": null,
       "justify_items": null,
       "left": null,
       "margin": null,
       "max_height": null,
       "max_width": null,
       "min_height": null,
       "min_width": null,
       "object_fit": null,
       "object_position": null,
       "order": null,
       "overflow": null,
       "overflow_x": null,
       "overflow_y": null,
       "padding": null,
       "right": null,
       "top": null,
       "visibility": null,
       "width": null
      }
     },
     "76e11ebed5b14a8998aa786659012ae2": {
      "model_module": "@jupyter-widgets/base",
      "model_module_version": "1.2.0",
      "model_name": "LayoutModel",
      "state": {
       "_model_module": "@jupyter-widgets/base",
       "_model_module_version": "1.2.0",
       "_model_name": "LayoutModel",
       "_view_count": null,
       "_view_module": "@jupyter-widgets/base",
       "_view_module_version": "1.2.0",
       "_view_name": "LayoutView",
       "align_content": null,
       "align_items": null,
       "align_self": null,
       "border": null,
       "bottom": null,
       "display": null,
       "flex": null,
       "flex_flow": null,
       "grid_area": null,
       "grid_auto_columns": null,
       "grid_auto_flow": null,
       "grid_auto_rows": null,
       "grid_column": null,
       "grid_gap": null,
       "grid_row": null,
       "grid_template_areas": null,
       "grid_template_columns": null,
       "grid_template_rows": null,
       "height": null,
       "justify_content": null,
       "justify_items": null,
       "left": null,
       "margin": null,
       "max_height": null,
       "max_width": null,
       "min_height": null,
       "min_width": null,
       "object_fit": null,
       "object_position": null,
       "order": null,
       "overflow": null,
       "overflow_x": null,
       "overflow_y": null,
       "padding": null,
       "right": null,
       "top": null,
       "visibility": null,
       "width": null
      }
     },
     "7a0eb880fb3e4bda98a5b2e44a7a6101": {
      "model_module": "@jupyter-widgets/base",
      "model_module_version": "1.2.0",
      "model_name": "LayoutModel",
      "state": {
       "_model_module": "@jupyter-widgets/base",
       "_model_module_version": "1.2.0",
       "_model_name": "LayoutModel",
       "_view_count": null,
       "_view_module": "@jupyter-widgets/base",
       "_view_module_version": "1.2.0",
       "_view_name": "LayoutView",
       "align_content": null,
       "align_items": null,
       "align_self": null,
       "border": null,
       "bottom": null,
       "display": null,
       "flex": null,
       "flex_flow": null,
       "grid_area": null,
       "grid_auto_columns": null,
       "grid_auto_flow": null,
       "grid_auto_rows": null,
       "grid_column": null,
       "grid_gap": null,
       "grid_row": null,
       "grid_template_areas": null,
       "grid_template_columns": null,
       "grid_template_rows": null,
       "height": null,
       "justify_content": null,
       "justify_items": null,
       "left": null,
       "margin": null,
       "max_height": null,
       "max_width": null,
       "min_height": null,
       "min_width": null,
       "object_fit": null,
       "object_position": null,
       "order": null,
       "overflow": null,
       "overflow_x": null,
       "overflow_y": null,
       "padding": null,
       "right": null,
       "top": null,
       "visibility": null,
       "width": null
      }
     },
     "9456fdf3c49b46a189cacd2b652d9b6f": {
      "model_module": "@jupyter-widgets/base",
      "model_module_version": "1.2.0",
      "model_name": "LayoutModel",
      "state": {
       "_model_module": "@jupyter-widgets/base",
       "_model_module_version": "1.2.0",
       "_model_name": "LayoutModel",
       "_view_count": null,
       "_view_module": "@jupyter-widgets/base",
       "_view_module_version": "1.2.0",
       "_view_name": "LayoutView",
       "align_content": null,
       "align_items": null,
       "align_self": null,
       "border": null,
       "bottom": null,
       "display": null,
       "flex": null,
       "flex_flow": null,
       "grid_area": null,
       "grid_auto_columns": null,
       "grid_auto_flow": null,
       "grid_auto_rows": null,
       "grid_column": null,
       "grid_gap": null,
       "grid_row": null,
       "grid_template_areas": null,
       "grid_template_columns": null,
       "grid_template_rows": null,
       "height": null,
       "justify_content": null,
       "justify_items": null,
       "left": null,
       "margin": null,
       "max_height": null,
       "max_width": null,
       "min_height": null,
       "min_width": null,
       "object_fit": null,
       "object_position": null,
       "order": null,
       "overflow": null,
       "overflow_x": null,
       "overflow_y": null,
       "padding": null,
       "right": null,
       "top": null,
       "visibility": null,
       "width": null
      }
     },
     "a9ba5021ce0e4d47bc5c822e73b51e65": {
      "model_module": "@jupyter-widgets/base",
      "model_module_version": "1.2.0",
      "model_name": "LayoutModel",
      "state": {
       "_model_module": "@jupyter-widgets/base",
       "_model_module_version": "1.2.0",
       "_model_name": "LayoutModel",
       "_view_count": null,
       "_view_module": "@jupyter-widgets/base",
       "_view_module_version": "1.2.0",
       "_view_name": "LayoutView",
       "align_content": null,
       "align_items": null,
       "align_self": null,
       "border": null,
       "bottom": null,
       "display": null,
       "flex": null,
       "flex_flow": null,
       "grid_area": null,
       "grid_auto_columns": null,
       "grid_auto_flow": null,
       "grid_auto_rows": null,
       "grid_column": null,
       "grid_gap": null,
       "grid_row": null,
       "grid_template_areas": null,
       "grid_template_columns": null,
       "grid_template_rows": null,
       "height": null,
       "justify_content": null,
       "justify_items": null,
       "left": null,
       "margin": null,
       "max_height": null,
       "max_width": null,
       "min_height": null,
       "min_width": null,
       "object_fit": null,
       "object_position": null,
       "order": null,
       "overflow": null,
       "overflow_x": null,
       "overflow_y": null,
       "padding": null,
       "right": null,
       "top": null,
       "visibility": null,
       "width": null
      }
     },
     "aabd7c5d02f44a688a1affb314f19c90": {
      "model_module": "@jupyter-widgets/controls",
      "model_module_version": "1.5.0",
      "model_name": "SliderStyleModel",
      "state": {
       "_model_module": "@jupyter-widgets/controls",
       "_model_module_version": "1.5.0",
       "_model_name": "SliderStyleModel",
       "_view_count": null,
       "_view_module": "@jupyter-widgets/base",
       "_view_module_version": "1.2.0",
       "_view_name": "StyleView",
       "description_width": "",
       "handle_color": null
      }
     },
     "abfe88ac01a5407fb129dd6ddb01d94a": {
      "model_module": "@jupyter-widgets/controls",
      "model_module_version": "1.5.0",
      "model_name": "SliderStyleModel",
      "state": {
       "_model_module": "@jupyter-widgets/controls",
       "_model_module_version": "1.5.0",
       "_model_name": "SliderStyleModel",
       "_view_count": null,
       "_view_module": "@jupyter-widgets/base",
       "_view_module_version": "1.2.0",
       "_view_name": "StyleView",
       "description_width": "",
       "handle_color": null
      }
     },
     "ade79b3a02374124a8cec5ab449b65f7": {
      "model_module": "@jupyter-widgets/controls",
      "model_module_version": "1.5.0",
      "model_name": "DescriptionStyleModel",
      "state": {
       "_model_module": "@jupyter-widgets/controls",
       "_model_module_version": "1.5.0",
       "_model_name": "DescriptionStyleModel",
       "_view_count": null,
       "_view_module": "@jupyter-widgets/base",
       "_view_module_version": "1.2.0",
       "_view_name": "StyleView",
       "description_width": ""
      }
     },
     "b01ff303bd7d429e995c05c0ed9648b6": {
      "model_module": "@jupyter-widgets/controls",
      "model_module_version": "1.5.0",
      "model_name": "VBoxModel",
      "state": {
       "_dom_classes": [
        "widget-interact"
       ],
       "_model_module": "@jupyter-widgets/controls",
       "_model_module_version": "1.5.0",
       "_model_name": "VBoxModel",
       "_view_count": null,
       "_view_module": "@jupyter-widgets/controls",
       "_view_module_version": "1.5.0",
       "_view_name": "VBoxView",
       "box_style": "",
       "children": [
        "IPY_MODEL_c825705e28da497f8ed93896341b580e",
        "IPY_MODEL_6b06de69eded4f9480ae2a90b98d464f",
        "IPY_MODEL_e617e8e65d264dac92f2d92ed625eea4",
        "IPY_MODEL_d0d2e0245b944f6f9a622d9def49b21d"
       ],
       "layout": "IPY_MODEL_22b81cee0ff941b0a9db88e3ef334cf0"
      }
     },
     "b4440c36fa4743bca5ddc85eca4f3cd0": {
      "model_module": "@jupyter-widgets/controls",
      "model_module_version": "1.5.0",
      "model_name": "FloatSliderModel",
      "state": {
       "_dom_classes": [],
       "_model_module": "@jupyter-widgets/controls",
       "_model_module_version": "1.5.0",
       "_model_name": "FloatSliderModel",
       "_view_count": null,
       "_view_module": "@jupyter-widgets/controls",
       "_view_module_version": "1.5.0",
       "_view_name": "FloatSliderView",
       "continuous_update": false,
       "description": "Edge dilation:",
       "description_tooltip": null,
       "disabled": false,
       "layout": "IPY_MODEL_7a0eb880fb3e4bda98a5b2e44a7a6101",
       "max": 20.0,
       "min": 0.0,
       "orientation": "horizontal",
       "readout": true,
       "readout_format": ".1f",
       "step": 0.1,
       "style": "IPY_MODEL_bb79d51f8b004fac9ddfe152f49bb720",
       "value": 1.4
      }
     },
     "b4f5c063b13345a09c9362c7d898c9c8": {
      "model_module": "@jupyter-widgets/base",
      "model_module_version": "1.2.0",
      "model_name": "LayoutModel",
      "state": {
       "_model_module": "@jupyter-widgets/base",
       "_model_module_version": "1.2.0",
       "_model_name": "LayoutModel",
       "_view_count": null,
       "_view_module": "@jupyter-widgets/base",
       "_view_module_version": "1.2.0",
       "_view_name": "LayoutView",
       "align_content": null,
       "align_items": null,
       "align_self": null,
       "border": null,
       "bottom": null,
       "display": null,
       "flex": null,
       "flex_flow": null,
       "grid_area": null,
       "grid_auto_columns": null,
       "grid_auto_flow": null,
       "grid_auto_rows": null,
       "grid_column": null,
       "grid_gap": null,
       "grid_row": null,
       "grid_template_areas": null,
       "grid_template_columns": null,
       "grid_template_rows": null,
       "height": null,
       "justify_content": null,
       "justify_items": null,
       "left": null,
       "margin": null,
       "max_height": null,
       "max_width": null,
       "min_height": null,
       "min_width": null,
       "object_fit": null,
       "object_position": null,
       "order": null,
       "overflow": null,
       "overflow_x": null,
       "overflow_y": null,
       "padding": null,
       "right": null,
       "top": null,
       "visibility": null,
       "width": null
      }
     },
     "b6c9bf7cc60140318312801de2ab5ba9": {
      "model_module": "@jupyter-widgets/base",
      "model_module_version": "1.2.0",
      "model_name": "LayoutModel",
      "state": {
       "_model_module": "@jupyter-widgets/base",
       "_model_module_version": "1.2.0",
       "_model_name": "LayoutModel",
       "_view_count": null,
       "_view_module": "@jupyter-widgets/base",
       "_view_module_version": "1.2.0",
       "_view_name": "LayoutView",
       "align_content": null,
       "align_items": null,
       "align_self": null,
       "border": null,
       "bottom": null,
       "display": null,
       "flex": null,
       "flex_flow": null,
       "grid_area": null,
       "grid_auto_columns": null,
       "grid_auto_flow": null,
       "grid_auto_rows": null,
       "grid_column": null,
       "grid_gap": null,
       "grid_row": null,
       "grid_template_areas": null,
       "grid_template_columns": null,
       "grid_template_rows": null,
       "height": null,
       "justify_content": null,
       "justify_items": null,
       "left": null,
       "margin": null,
       "max_height": null,
       "max_width": null,
       "min_height": null,
       "min_width": null,
       "object_fit": null,
       "object_position": null,
       "order": null,
       "overflow": null,
       "overflow_x": null,
       "overflow_y": null,
       "padding": null,
       "right": null,
       "top": null,
       "visibility": null,
       "width": null
      }
     },
     "bb79d51f8b004fac9ddfe152f49bb720": {
      "model_module": "@jupyter-widgets/controls",
      "model_module_version": "1.5.0",
      "model_name": "SliderStyleModel",
      "state": {
       "_model_module": "@jupyter-widgets/controls",
       "_model_module_version": "1.5.0",
       "_model_name": "SliderStyleModel",
       "_view_count": null,
       "_view_module": "@jupyter-widgets/base",
       "_view_module_version": "1.2.0",
       "_view_name": "StyleView",
       "description_width": "",
       "handle_color": null
      }
     },
     "c16d8b46e0ce4a37b52b57e80e8fa915": {
      "model_module": "@jupyter-widgets/base",
      "model_module_version": "1.2.0",
      "model_name": "LayoutModel",
      "state": {
       "_model_module": "@jupyter-widgets/base",
       "_model_module_version": "1.2.0",
       "_model_name": "LayoutModel",
       "_view_count": null,
       "_view_module": "@jupyter-widgets/base",
       "_view_module_version": "1.2.0",
       "_view_name": "LayoutView",
       "align_content": null,
       "align_items": null,
       "align_self": null,
       "border": null,
       "bottom": null,
       "display": null,
       "flex": null,
       "flex_flow": null,
       "grid_area": null,
       "grid_auto_columns": null,
       "grid_auto_flow": null,
       "grid_auto_rows": null,
       "grid_column": null,
       "grid_gap": null,
       "grid_row": null,
       "grid_template_areas": null,
       "grid_template_columns": null,
       "grid_template_rows": null,
       "height": null,
       "justify_content": null,
       "justify_items": null,
       "left": null,
       "margin": null,
       "max_height": null,
       "max_width": null,
       "min_height": null,
       "min_width": null,
       "object_fit": null,
       "object_position": null,
       "order": null,
       "overflow": null,
       "overflow_x": null,
       "overflow_y": null,
       "padding": null,
       "right": null,
       "top": null,
       "visibility": null,
       "width": null
      }
     },
     "c825705e28da497f8ed93896341b580e": {
      "model_module": "@jupyter-widgets/controls",
      "model_module_version": "1.5.0",
      "model_name": "FloatSliderModel",
      "state": {
       "_dom_classes": [],
       "_model_module": "@jupyter-widgets/controls",
       "_model_module_version": "1.5.0",
       "_model_name": "FloatSliderModel",
       "_view_count": null,
       "_view_module": "@jupyter-widgets/controls",
       "_view_module_version": "1.5.0",
       "_view_name": "FloatSliderView",
       "continuous_update": false,
       "description": "sigma_x",
       "description_tooltip": null,
       "disabled": false,
       "layout": "IPY_MODEL_76e11ebed5b14a8998aa786659012ae2",
       "max": 20.0,
       "min": -20.0,
       "orientation": "horizontal",
       "readout": true,
       "readout_format": ".2f",
       "step": 1.0,
       "style": "IPY_MODEL_cf8d256750654cc1b078fee2e09e9cc1",
       "value": 0.0
      }
     },
     "cf8d256750654cc1b078fee2e09e9cc1": {
      "model_module": "@jupyter-widgets/controls",
      "model_module_version": "1.5.0",
      "model_name": "SliderStyleModel",
      "state": {
       "_model_module": "@jupyter-widgets/controls",
       "_model_module_version": "1.5.0",
       "_model_name": "SliderStyleModel",
       "_view_count": null,
       "_view_module": "@jupyter-widgets/base",
       "_view_module_version": "1.2.0",
       "_view_name": "StyleView",
       "description_width": "",
       "handle_color": null
      }
     },
     "d0d2e0245b944f6f9a622d9def49b21d": {
      "model_module": "@jupyter-widgets/output",
      "model_module_version": "1.0.0",
      "model_name": "OutputModel",
      "state": {
       "_dom_classes": [],
       "_model_module": "@jupyter-widgets/output",
       "_model_module_version": "1.0.0",
       "_model_name": "OutputModel",
       "_view_count": null,
       "_view_module": "@jupyter-widgets/output",
       "_view_module_version": "1.0.0",
       "_view_name": "OutputView",
       "layout": "IPY_MODEL_d2cc8344017347cab59bae52db922b3b",
       "msg_id": "",
       "outputs": []
      }
     },
     "d2cc8344017347cab59bae52db922b3b": {
      "model_module": "@jupyter-widgets/base",
      "model_module_version": "1.2.0",
      "model_name": "LayoutModel",
      "state": {
       "_model_module": "@jupyter-widgets/base",
       "_model_module_version": "1.2.0",
       "_model_name": "LayoutModel",
       "_view_count": null,
       "_view_module": "@jupyter-widgets/base",
       "_view_module_version": "1.2.0",
       "_view_name": "LayoutView",
       "align_content": null,
       "align_items": null,
       "align_self": null,
       "border": null,
       "bottom": null,
       "display": null,
       "flex": null,
       "flex_flow": null,
       "grid_area": null,
       "grid_auto_columns": null,
       "grid_auto_flow": null,
       "grid_auto_rows": null,
       "grid_column": null,
       "grid_gap": null,
       "grid_row": null,
       "grid_template_areas": null,
       "grid_template_columns": null,
       "grid_template_rows": null,
       "height": null,
       "justify_content": null,
       "justify_items": null,
       "left": null,
       "margin": null,
       "max_height": null,
       "max_width": null,
       "min_height": null,
       "min_width": null,
       "object_fit": null,
       "object_position": null,
       "order": null,
       "overflow": null,
       "overflow_x": null,
       "overflow_y": null,
       "padding": null,
       "right": null,
       "top": null,
       "visibility": null,
       "width": null
      }
     },
     "dab9d9c21ab54e36b85079197512d7b9": {
      "model_module": "@jupyter-widgets/base",
      "model_module_version": "1.2.0",
      "model_name": "LayoutModel",
      "state": {
       "_model_module": "@jupyter-widgets/base",
       "_model_module_version": "1.2.0",
       "_model_name": "LayoutModel",
       "_view_count": null,
       "_view_module": "@jupyter-widgets/base",
       "_view_module_version": "1.2.0",
       "_view_name": "LayoutView",
       "align_content": null,
       "align_items": null,
       "align_self": null,
       "border": null,
       "bottom": null,
       "display": null,
       "flex": null,
       "flex_flow": null,
       "grid_area": null,
       "grid_auto_columns": null,
       "grid_auto_flow": null,
       "grid_auto_rows": null,
       "grid_column": null,
       "grid_gap": null,
       "grid_row": null,
       "grid_template_areas": null,
       "grid_template_columns": null,
       "grid_template_rows": null,
       "height": null,
       "justify_content": null,
       "justify_items": null,
       "left": null,
       "margin": null,
       "max_height": null,
       "max_width": null,
       "min_height": null,
       "min_width": null,
       "object_fit": null,
       "object_position": null,
       "order": null,
       "overflow": null,
       "overflow_x": null,
       "overflow_y": null,
       "padding": null,
       "right": null,
       "top": null,
       "visibility": null,
       "width": null
      }
     },
     "e617e8e65d264dac92f2d92ed625eea4": {
      "model_module": "@jupyter-widgets/controls",
      "model_module_version": "1.5.0",
      "model_name": "FloatSliderModel",
      "state": {
       "_dom_classes": [],
       "_model_module": "@jupyter-widgets/controls",
       "_model_module_version": "1.5.0",
       "_model_name": "FloatSliderModel",
       "_view_count": null,
       "_view_module": "@jupyter-widgets/controls",
       "_view_module_version": "1.5.0",
       "_view_name": "FloatSliderView",
       "continuous_update": false,
       "description": "sigma_z",
       "description_tooltip": null,
       "disabled": false,
       "layout": "IPY_MODEL_1ce758883b5b49b99643883e82cfa6c1",
       "max": 20.0,
       "min": -20.0,
       "orientation": "horizontal",
       "readout": true,
       "readout_format": ".2f",
       "step": 1.0,
       "style": "IPY_MODEL_2fb8ec0488754a9681917ed240455f46",
       "value": 0.0
      }
     },
     "e9396f42fc5343969a1cd3f6e8a79b94": {
      "buffers": [
       {
        "data": "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",
        "encoding": "base64",
        "path": [
         "value"
        ]
       }
      ],
      "model_module": "@jupyter-widgets/controls",
      "model_module_version": "1.5.0",
      "model_name": "ImageModel",
      "state": {
       "_dom_classes": [],
       "_model_module": "@jupyter-widgets/controls",
       "_model_module_version": "1.5.0",
       "_model_name": "ImageModel",
       "_view_count": null,
       "_view_module": "@jupyter-widgets/controls",
       "_view_module_version": "1.5.0",
       "_view_name": "ImageView",
       "format": "jpeg",
       "height": "",
       "layout": "IPY_MODEL_5a18da0488064533ad176e9ebfd489ed",
       "width": ""
      }
     },
     "eb53c3ed58b5423bacb07ae1fc56b498": {
      "model_module": "@jupyter-widgets/controls",
      "model_module_version": "1.5.0",
      "model_name": "RadioButtonsModel",
      "state": {
       "_dom_classes": [],
       "_model_module": "@jupyter-widgets/controls",
       "_model_module_version": "1.5.0",
       "_model_name": "RadioButtonsModel",
       "_options_labels": [
        "background subtracted",
        "denoised",
        "edge eroded",
        "binary",
        "labels",
        "result"
       ],
       "_view_count": null,
       "_view_module": "@jupyter-widgets/controls",
       "_view_module_version": "1.5.0",
       "_view_name": "RadioButtonsView",
       "description": "Show output:",
       "description_tooltip": null,
       "disabled": false,
       "index": 5,
       "layout": "IPY_MODEL_13f26315be3548ef927a11397be18acc",
       "style": "IPY_MODEL_ade79b3a02374124a8cec5ab449b65f7"
      }
     },
     "ecfc132a177345a9a072766243be17d1": {
      "model_module": "@jupyter-widgets/controls",
      "model_module_version": "1.5.0",
      "model_name": "IntSliderModel",
      "state": {
       "_dom_classes": [],
       "_model_module": "@jupyter-widgets/controls",
       "_model_module_version": "1.5.0",
       "_model_name": "IntSliderModel",
       "_view_count": null,
       "_view_module": "@jupyter-widgets/controls",
       "_view_module_version": "1.5.0",
       "_view_name": "IntSliderView",
       "continuous_update": true,
       "description": "",
       "description_tooltip": null,
       "disabled": false,
       "layout": "IPY_MODEL_c16d8b46e0ce4a37b52b57e80e8fa915",
       "max": 180,
       "min": -180,
       "orientation": "horizontal",
       "readout": true,
       "readout_format": "d",
       "step": 1,
       "style": "IPY_MODEL_5ede8f29160f429f96df38bc359bd083",
       "value": 0
      }
     },
     "fe7113c1a0194fb49c3f0f39177e63aa": {
      "model_module": "@jupyter-widgets/controls",
      "model_module_version": "1.5.0",
      "model_name": "LabelModel",
      "state": {
       "_dom_classes": [],
       "_model_module": "@jupyter-widgets/controls",
       "_model_module_version": "1.5.0",
       "_model_name": "LabelModel",
       "_view_count": null,
       "_view_module": "@jupyter-widgets/controls",
       "_view_module_version": "1.5.0",
       "_view_name": "LabelView",
       "description": "",
       "description_tooltip": null,
       "layout": "IPY_MODEL_dab9d9c21ab54e36b85079197512d7b9",
       "placeholder": "​",
       "style": "IPY_MODEL_0577178447e04e9086072809a75e9ce3",
       "value": "gaussian_blur(..., sigma_x=0.0, sigma_y=0.0, sigma_z=0.0)"
      }
     }
    },
    "version_major": 2,
    "version_minor": 0
   }
  }
 },
 "nbformat": 4,
 "nbformat_minor": 5
}