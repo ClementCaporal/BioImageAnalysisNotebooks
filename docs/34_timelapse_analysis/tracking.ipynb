{
 "cells": [
  {
   "cell_type": "markdown",
   "id": "97908193-a122-425f-b9d6-63b13f014311",
   "metadata": {},
   "source": [
    "# Tracking "
   ]
  },
  {
   "cell_type": "markdown",
   "id": "48d78cd0-d597-4975-8dee-daeee29e45e3",
   "metadata": {},
   "source": [
    "Two important processes in normal tissue development and disease are cell migration and proliferation. To gain a better understanding on these processes, tracking in time-lapse datasets is needed. Tracking is the motion-analysis of individual objects over space and time. Hereby a unique ID for each detected object is generated and maintained.\n",
    "\n",
    "To find out more about tracking, we will explore a cancer cell migration dataset from [Tinevez, J. & Guillaume Jacquemet, G.](https://zenodo.org/record/5206107#.ZFthHnZBxPa) licensed by [CC BY 4.0](https://creativecommons.org/licenses/by/4.0/legalcode). We will concentrate on a [cropped](https://haesleinhuepf.github.io/BioImageAnalysisNotebooks/12_image_analysis_basics/04_Cropping_images.html) region of the dataset (in x, y and t)."
   ]
  },
  {
   "cell_type": "code",
   "execution_count": 23,
   "id": "14355061-7da7-4ccb-bdea-a5d82425d673",
   "metadata": {
    "tags": []
   },
   "outputs": [],
   "source": [
    "import btrack\n",
    "from skimage.io import imread, imsave\n",
    "import napari\n",
    "import os\n",
    "import numpy as np\n",
    "import matplotlib.pyplot as plt\n",
    "import pandas as pd\n",
    "from napari_skimage_regionprops import add_table"
   ]
  },
  {
   "cell_type": "markdown",
   "id": "a5f9bdb7-a58b-40d5-8112-933eba8cc013",
   "metadata": {},
   "source": [
    "First, we need to read in our segmentation result as it is the base of the tracking. Let's also read in the image itself, to be able to see both even though it's not needed for the tracking itself."
   ]
  },
  {
   "cell_type": "code",
   "execution_count": 2,
   "id": "8f937b29-8a1c-4df1-82a9-65f4162a06c1",
   "metadata": {
    "tags": []
   },
   "outputs": [],
   "source": [
    "image = imread('../../data/cancer_cell_migration_cropped.tif')\n",
    "label_image = imread('../../data/cancer_cell_migration_voronoi_otsu_labeling_cropped.tif')"
   ]
  },
  {
   "cell_type": "markdown",
   "id": "e6926ea0-323d-4923-a90b-828b3a7496a1",
   "metadata": {},
   "source": [
    "We can check our image `shape` "
   ]
  },
  {
   "cell_type": "code",
   "execution_count": 3,
   "id": "583a1058-e47e-469b-9997-f78a3b94c750",
   "metadata": {
    "tags": []
   },
   "outputs": [
    {
     "data": {
      "text/plain": [
       "(48, 1, 130, 130)"
      ]
     },
     "execution_count": 3,
     "metadata": {},
     "output_type": "execute_result"
    }
   ],
   "source": [
    "label_image.shape"
   ]
  },
  {
   "cell_type": "code",
   "execution_count": 4,
   "id": "d83d4323-0727-47b1-971a-5273bd233158",
   "metadata": {
    "tags": []
   },
   "outputs": [],
   "source": [
    "image = image[:,0,...] #Remove Second Dim\n",
    "label_image = label_image[:,0,...] #Remove Second Dim"
   ]
  },
  {
   "cell_type": "code",
   "execution_count": 5,
   "id": "66fbb3f3-dd59-4de0-b89a-4c4b5ecd8d81",
   "metadata": {
    "tags": []
   },
   "outputs": [
    {
     "data": {
      "text/plain": [
       "(48, 130, 130)"
      ]
     },
     "execution_count": 5,
     "metadata": {},
     "output_type": "execute_result"
    }
   ],
   "source": [
    "label_image.shape"
   ]
  },
  {
   "cell_type": "markdown",
   "id": "8ab8f7ea-a71d-491a-85a4-3eb927de91c4",
   "metadata": {},
   "source": [
    "And see it sorted with the dimensions `[t,z,y,x]` with\n",
    "- `t` = time\n",
    "- `z` = number of z-slices\n",
    "- `y` = number of pixels in y\n",
    "- `x` = number of pixels in x"
   ]
  },
  {
   "cell_type": "markdown",
   "id": "bb40c7f4-f05e-4adb-bd30-d53652e742b1",
   "metadata": {},
   "source": [
    "We can use [`stackview`](https://github.com/haesleinhuepf/stackview) to visualize this 4D stack."
   ]
  },
  {
   "cell_type": "code",
   "execution_count": 6,
   "id": "8ec561c0-1073-494c-8294-ce6715757eb8",
   "metadata": {
    "tags": []
   },
   "outputs": [],
   "source": [
    "import stackview"
   ]
  },
  {
   "cell_type": "markdown",
   "id": "981ddd44-60f0-4fee-b20f-52d8bdf04705",
   "metadata": {},
   "source": [
    "`stackview.curtain` allows us to visualize our label_image on top of our image"
   ]
  },
  {
   "cell_type": "code",
   "execution_count": 7,
   "id": "b1a687b0-0004-4659-8ed5-6b1a8d902eee",
   "metadata": {
    "tags": []
   },
   "outputs": [
    {
     "data": {
      "application/vnd.jupyter.widget-view+json": {
       "model_id": "639152e2852b4660b195893cbb25b758",
       "version_major": 2,
       "version_minor": 0
      },
      "text/plain": [
       "VBox(children=(HBox(children=(VBox(children=(ImageWidget(height=650, width=650),)),)), IntSlider(value=24, des…"
      ]
     },
     "execution_count": 7,
     "metadata": {},
     "output_type": "execute_result"
    }
   ],
   "source": [
    "stackview.curtain(image, label_image, continuous_update=True,zoom_factor = 5) "
   ]
  },
  {
   "cell_type": "code",
   "execution_count": 8,
   "id": "f9ef8da2-e64b-43bb-b2be-12529cf25808",
   "metadata": {
    "tags": []
   },
   "outputs": [],
   "source": [
    "from napari_skimage_regionprops import regionprops_table_all_frames"
   ]
  },
  {
   "cell_type": "code",
   "execution_count": 20,
   "id": "4c860aca-7140-4d96-b44f-a6fae0f9f21f",
   "metadata": {
    "tags": []
   },
   "outputs": [
    {
     "name": "stdout",
     "output_type": "stream",
     "text": [
      "analyzing frame 0\n",
      "analyzing frame 1\n",
      "analyzing frame 2\n",
      "analyzing frame 3\n",
      "analyzing frame 4\n",
      "analyzing frame 5\n",
      "analyzing frame 6\n",
      "analyzing frame 7\n",
      "analyzing frame 8\n",
      "analyzing frame 9\n",
      "analyzing frame 10\n",
      "analyzing frame 11\n",
      "analyzing frame 12\n",
      "analyzing frame 13\n",
      "analyzing frame 14\n",
      "analyzing frame 15\n",
      "analyzing frame 16\n",
      "analyzing frame 17\n",
      "analyzing frame 18\n",
      "analyzing frame 19\n",
      "analyzing frame 20\n",
      "analyzing frame 21\n",
      "analyzing frame 22\n",
      "analyzing frame 23\n",
      "analyzing frame 24\n",
      "analyzing frame 25\n",
      "analyzing frame 26\n",
      "analyzing frame 27\n",
      "analyzing frame 28\n",
      "analyzing frame 29\n",
      "analyzing frame 30\n",
      "analyzing frame 31\n",
      "analyzing frame 32\n",
      "analyzing frame 33\n",
      "analyzing frame 34\n",
      "analyzing frame 35\n",
      "analyzing frame 36\n",
      "analyzing frame 37\n",
      "analyzing frame 38\n",
      "analyzing frame 39\n",
      "analyzing frame 40\n",
      "analyzing frame 41\n",
      "analyzing frame 42\n",
      "analyzing frame 43\n",
      "analyzing frame 44\n",
      "analyzing frame 45\n",
      "analyzing frame 46\n",
      "analyzing frame 47\n"
     ]
    }
   ],
   "source": [
    "stats = regionprops_table_all_frames(image[:,np.newaxis,:,:], \n",
    "                             label_image[:,np.newaxis,:,:],\n",
    "                             size=True)\n",
    "table = pd.DataFrame(stats)"
   ]
  },
  {
   "cell_type": "code",
   "execution_count": 8,
   "id": "43fcd7bd-00c2-4c6d-8f33-66709c04c5fd",
   "metadata": {
    "tags": []
   },
   "outputs": [],
   "source": [
    "# create btrack objects (with properties) from the segmentation data\n",
    "# (you can also calculate properties, based on scikit-image regionprops)\n",
    "FEATURES = [\n",
    "    \"area\"\n",
    "]"
   ]
  },
  {
   "cell_type": "markdown",
   "id": "e1d84a2d-598e-42cb-8d18-9066918e3d85",
   "metadata": {},
   "source": [
    "# _Substitute the next thing_"
   ]
  },
  {
   "cell_type": "code",
   "execution_count": 9,
   "id": "f4a208d7-c07c-43f9-af6c-01aedcaaae7d",
   "metadata": {
    "tags": []
   },
   "outputs": [
    {
     "name": "stderr",
     "output_type": "stream",
     "text": [
      "[INFO][2023/05/22 04:26:30 PM] Localizing objects from segmentation...\n",
      "[INFO][2023/05/22 04:26:31 PM] Objects are of type: <class 'dict'>\n",
      "[INFO][2023/05/22 04:26:31 PM] ...Found 650 objects in 48 frames.\n"
     ]
    }
   ],
   "source": [
    "# connect labels to properties\n",
    "objects = btrack.utils.segmentation_to_objects(\n",
    "    label_image, \n",
    "    properties=tuple(FEATURES)\n",
    ")"
   ]
  },
  {
   "cell_type": "code",
   "execution_count": 14,
   "id": "36907697-ab54-4f98-bf68-7296339f4021",
   "metadata": {
    "tags": []
   },
   "outputs": [
    {
     "name": "stderr",
     "output_type": "stream",
     "text": [
      "[INFO][2023/05/22 04:42:16 PM] Localizing objects from segmentation...\n",
      "[INFO][2023/05/22 04:42:16 PM] Objects are of type: <class 'dict'>\n",
      "[INFO][2023/05/22 04:42:16 PM] ...Found 650 objects in 48 frames.\n"
     ]
    }
   ],
   "source": [
    "# connect labels to properties\n",
    "objects = btrack.utils.segmentation_to_objects(\n",
    "    label_image\n",
    ")"
   ]
  },
  {
   "cell_type": "code",
   "execution_count": 15,
   "id": "ef069db7-c343-4d4f-a44b-bdf88874ae89",
   "metadata": {
    "tags": []
   },
   "outputs": [],
   "source": [
    "from btrack import datasets"
   ]
  },
  {
   "cell_type": "code",
   "execution_count": 16,
   "id": "fa151bc1-54a8-4ada-a63d-520a42645c9c",
   "metadata": {
    "tags": []
   },
   "outputs": [],
   "source": [
    "config_file = datasets.cell_config()"
   ]
  },
  {
   "cell_type": "code",
   "execution_count": 17,
   "id": "981bb924-b172-4d8a-9116-6a3c448514b4",
   "metadata": {
    "tags": []
   },
   "outputs": [
    {
     "data": {
      "text/plain": [
       "'C:\\\\Users\\\\maral\\\\AppData\\\\Local\\\\btrack-examples\\\\btrack-examples\\\\Cache\\\\examples\\\\cell_config.json'"
      ]
     },
     "execution_count": 17,
     "metadata": {},
     "output_type": "execute_result"
    }
   ],
   "source": [
    "config_file"
   ]
  },
  {
   "cell_type": "code",
   "execution_count": 18,
   "id": "9bfa712a-c52d-4184-b7ff-599d7f49391b",
   "metadata": {
    "tags": []
   },
   "outputs": [
    {
     "name": "stderr",
     "output_type": "stream",
     "text": [
      "[INFO][2023/05/22 04:42:18 PM] Loaded btrack: C:\\Users\\maral\\mambaforge\\envs\\laptrack_env2\\lib\\site-packages\\btrack\\libs\\libtracker.DLL\n",
      "[INFO][2023/05/22 04:42:18 PM] Starting BayesianTracker session\n",
      "[INFO][2023/05/22 04:42:18 PM] Loading configuration file: C:\\Users\\maral\\AppData\\Local\\btrack-examples\\btrack-examples\\Cache\\examples\\cell_config.json\n",
      "[INFO][2023/05/22 04:42:18 PM] Objects are of type: <class 'list'>\n",
      "[WARNING][2023/05/22 04:42:18 PM] `track_interactive` will be deprecated. Use `track` instead.\n",
      "[INFO][2023/05/22 04:42:18 PM] Starting tracking... \n",
      "[INFO][2023/05/22 04:42:18 PM] Update using: ['MOTION']\n",
      "[INFO][2023/05/22 04:42:18 PM] Tracking objects in frames 0 to 48 (of 48)...\n",
      "[INFO][2023/05/22 04:42:18 PM]  - Timing (Bayesian updates: 0.00ms, Linking: 0.00ms)\n",
      "[INFO][2023/05/22 04:42:18 PM]  - Probabilities (Link: 0.99998, Lost: 0.46137)\n",
      "[INFO][2023/05/22 04:42:18 PM] SUCCESS.\n",
      "[INFO][2023/05/22 04:42:18 PM]  - Found 30 tracks in 48 frames (in 0.0s)\n",
      "[INFO][2023/05/22 04:42:18 PM]  - Inserted 6 dummy objects to fill tracking gaps\n",
      "[INFO][2023/05/22 04:42:18 PM] Ending BayesianTracker session\n"
     ]
    }
   ],
   "source": [
    "# initialise a tracker session using a context manager\n",
    "with btrack.BayesianTracker() as tracker:\n",
    "\n",
    "  # configure the tracker using a preconfigured config file\n",
    "  tracker.configure(config_file)\n",
    "\n",
    "  # append the objects to be tracked\n",
    "  tracker.append(objects)\n",
    "    \n",
    "  # set the volume (Z axis volume limits default to [-1e5, 1e5] for 2D data)\n",
    "  tracker.volume = ((0, 130), (0, 130)) # when having 3D data this needs to be modified to X,Y and Z range\n",
    "\n",
    "  # track\n",
    "  tracker.track_interactive(step_size=100)\n",
    "\n",
    "  # get the tracks in a format for napari visualization\n",
    "  data, properties, graph = tracker.to_napari(ndim=2)"
   ]
  },
  {
   "cell_type": "markdown",
   "id": "b3c2f0b3-a8f6-401f-94b7-dd7ab8d7f7c8",
   "metadata": {},
   "source": [
    "# _It would be cool to do this after matching labels somehow between the frames_"
   ]
  },
  {
   "cell_type": "code",
   "execution_count": 25,
   "id": "e0061738-1874-43f4-aaf4-34d9a8e9be56",
   "metadata": {
    "tags": []
   },
   "outputs": [
    {
     "name": "stderr",
     "output_type": "stream",
     "text": [
      "WARNING: QWindowsWindow::setGeometry: Unable to set geometry 1086x680+641+282 (frame: 1104x727+632+244) on QWidgetWindow/\"_QtMainWindowClassWindow\" on \"\\\\.\\DISPLAY1\". Resulting geometry: 905x925+639+275 (frame: 923x972+630+237) margins: 9, 38, 9, 9 minimum size: 374x575 MINMAXINFO maxSize=0,0 maxpos=0,0 mintrack=392,622 maxtrack=0,0)\n"
     ]
    },
    {
     "name": "stdout",
     "output_type": "stream",
     "text": [
      "Napari status bar display of label properties disabled because https://github.com/napari/napari/issues/5417 and https://github.com/napari/napari/issues/4342\n"
     ]
    },
    {
     "data": {
      "text/plain": [
       "<napari_skimage_regionprops._table.TableWidget at 0x1ed0d057dc0>"
      ]
     },
     "execution_count": 25,
     "metadata": {},
     "output_type": "execute_result"
    }
   ],
   "source": [
    "viewer = napari.Viewer()\n",
    "labels_layer = viewer.add_labels(label_image, features = table)\n",
    "tracks_layer = viewer.add_tracks(data, properties=properties, graph=graph)\n",
    "add_table(labels_layer, viewer)"
   ]
  },
  {
   "cell_type": "markdown",
   "id": "3a7126cd-0f3b-462c-bd28-cccd99ba4a1b",
   "metadata": {},
   "source": [
    "- https://www.youtube.com/watch?v=JZ6QUZIds2g"
   ]
  }
 ],
 "metadata": {
  "kernelspec": {
   "display_name": "Python 3 (ipykernel)",
   "language": "python",
   "name": "python3"
  },
  "language_info": {
   "codemirror_mode": {
    "name": "ipython",
    "version": 3
   },
   "file_extension": ".py",
   "mimetype": "text/x-python",
   "name": "python",
   "nbconvert_exporter": "python",
   "pygments_lexer": "ipython3",
   "version": "3.9.16"
  }
 },
 "nbformat": 4,
 "nbformat_minor": 5
}
